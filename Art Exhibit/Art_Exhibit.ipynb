{
  "nbformat": 4,
  "nbformat_minor": 0,
  "metadata": {
    "colab": {
      "name": "Art Exhibit.ipynb",
      "provenance": [],
      "toc_visible": true
    },
    "kernelspec": {
      "name": "python3",
      "display_name": "Python 3"
    },
    "accelerator": "GPU"
  },
  "cells": [
    {
      "cell_type": "code",
      "metadata": {
        "id": "OEUYyOgAbm9Y"
      },
      "source": [
        "import pandas as pd\n",
        "import numpy as np \n",
        "import matplotlib.pyplot as plt\n",
        "import seaborn as sns \n",
        "import re\n",
        "#Models\n",
        "from sklearn.metrics import mean_squared_error\n",
        "from sklearn.metrics import mean_squared_log_error\n",
        "from math import sqrt\n",
        "\n",
        "from sklearn.tree import DecisionTreeRegressor\n",
        "from sklearn.ensemble import GradientBoostingRegressor\n",
        "from sklearn.model_selection import KFold\n",
        "from sklearn.model_selection import GridSearchCV\n",
        "from sklearn.ensemble import RandomForestRegressor\n",
        "import xgboost as xgb\n",
        "%matplotlib inline\n"
      ],
      "execution_count": null,
      "outputs": []
    },
    {
      "cell_type": "code",
      "metadata": {
        "id": "MM52gUsobo2k"
      },
      "source": [
        "train= pd.read_csv('train.csv')\n",
        "test = pd.read_csv('test.csv')"
      ],
      "execution_count": null,
      "outputs": []
    },
    {
      "cell_type": "code",
      "metadata": {
        "id": "U7xRgui2bzPu",
        "colab": {
          "base_uri": "https://localhost:8080/",
          "height": 365
        },
        "outputId": "e96f430b-a1e3-4f74-8e47-60587c14e0a0"
      },
      "source": [
        "train.head()"
      ],
      "execution_count": null,
      "outputs": [
        {
          "output_type": "execute_result",
          "data": {
            "text/html": [
              "<div>\n",
              "<style scoped>\n",
              "    .dataframe tbody tr th:only-of-type {\n",
              "        vertical-align: middle;\n",
              "    }\n",
              "\n",
              "    .dataframe tbody tr th {\n",
              "        vertical-align: top;\n",
              "    }\n",
              "\n",
              "    .dataframe thead th {\n",
              "        text-align: right;\n",
              "    }\n",
              "</style>\n",
              "<table border=\"1\" class=\"dataframe\">\n",
              "  <thead>\n",
              "    <tr style=\"text-align: right;\">\n",
              "      <th></th>\n",
              "      <th>Customer Id</th>\n",
              "      <th>Artist Name</th>\n",
              "      <th>Artist Reputation</th>\n",
              "      <th>Height</th>\n",
              "      <th>Width</th>\n",
              "      <th>Weight</th>\n",
              "      <th>Material</th>\n",
              "      <th>Price Of Sculpture</th>\n",
              "      <th>Base Shipping Price</th>\n",
              "      <th>International</th>\n",
              "      <th>Express Shipment</th>\n",
              "      <th>Installation Included</th>\n",
              "      <th>Transport</th>\n",
              "      <th>Fragile</th>\n",
              "      <th>Customer Information</th>\n",
              "      <th>Remote Location</th>\n",
              "      <th>Scheduled Date</th>\n",
              "      <th>Delivery Date</th>\n",
              "      <th>Customer Location</th>\n",
              "      <th>Cost</th>\n",
              "    </tr>\n",
              "  </thead>\n",
              "  <tbody>\n",
              "    <tr>\n",
              "      <th>0</th>\n",
              "      <td>fffe3900350033003300</td>\n",
              "      <td>Billy Jenkins</td>\n",
              "      <td>0.26</td>\n",
              "      <td>17.0</td>\n",
              "      <td>6.0</td>\n",
              "      <td>4128.0</td>\n",
              "      <td>Brass</td>\n",
              "      <td>13.91</td>\n",
              "      <td>16.27</td>\n",
              "      <td>Yes</td>\n",
              "      <td>Yes</td>\n",
              "      <td>No</td>\n",
              "      <td>Airways</td>\n",
              "      <td>No</td>\n",
              "      <td>Working Class</td>\n",
              "      <td>No</td>\n",
              "      <td>06/07/15</td>\n",
              "      <td>06/03/15</td>\n",
              "      <td>New Michelle, OH 50777</td>\n",
              "      <td>-283.29</td>\n",
              "    </tr>\n",
              "    <tr>\n",
              "      <th>1</th>\n",
              "      <td>fffe3800330031003900</td>\n",
              "      <td>Jean Bryant</td>\n",
              "      <td>0.28</td>\n",
              "      <td>3.0</td>\n",
              "      <td>3.0</td>\n",
              "      <td>61.0</td>\n",
              "      <td>Brass</td>\n",
              "      <td>6.83</td>\n",
              "      <td>15.00</td>\n",
              "      <td>No</td>\n",
              "      <td>No</td>\n",
              "      <td>No</td>\n",
              "      <td>Roadways</td>\n",
              "      <td>No</td>\n",
              "      <td>Working Class</td>\n",
              "      <td>No</td>\n",
              "      <td>03/06/17</td>\n",
              "      <td>03/05/17</td>\n",
              "      <td>New Michaelport, WY 12072</td>\n",
              "      <td>-159.96</td>\n",
              "    </tr>\n",
              "    <tr>\n",
              "      <th>2</th>\n",
              "      <td>fffe3600370035003100</td>\n",
              "      <td>Laura Miller</td>\n",
              "      <td>0.07</td>\n",
              "      <td>8.0</td>\n",
              "      <td>5.0</td>\n",
              "      <td>237.0</td>\n",
              "      <td>Clay</td>\n",
              "      <td>4.96</td>\n",
              "      <td>21.18</td>\n",
              "      <td>No</td>\n",
              "      <td>No</td>\n",
              "      <td>No</td>\n",
              "      <td>Roadways</td>\n",
              "      <td>Yes</td>\n",
              "      <td>Working Class</td>\n",
              "      <td>Yes</td>\n",
              "      <td>03/09/15</td>\n",
              "      <td>03/08/15</td>\n",
              "      <td>Bowmanshire, WA 19241</td>\n",
              "      <td>-154.29</td>\n",
              "    </tr>\n",
              "    <tr>\n",
              "      <th>3</th>\n",
              "      <td>fffe350031003300</td>\n",
              "      <td>Robert Chaires</td>\n",
              "      <td>0.12</td>\n",
              "      <td>9.0</td>\n",
              "      <td>NaN</td>\n",
              "      <td>NaN</td>\n",
              "      <td>Aluminium</td>\n",
              "      <td>5.81</td>\n",
              "      <td>16.31</td>\n",
              "      <td>No</td>\n",
              "      <td>No</td>\n",
              "      <td>No</td>\n",
              "      <td>NaN</td>\n",
              "      <td>No</td>\n",
              "      <td>Wealthy</td>\n",
              "      <td>Yes</td>\n",
              "      <td>05/24/15</td>\n",
              "      <td>05/20/15</td>\n",
              "      <td>East Robyn, KY 86375</td>\n",
              "      <td>-161.16</td>\n",
              "    </tr>\n",
              "    <tr>\n",
              "      <th>4</th>\n",
              "      <td>fffe3900320038003400</td>\n",
              "      <td>Rosalyn Krol</td>\n",
              "      <td>0.15</td>\n",
              "      <td>17.0</td>\n",
              "      <td>6.0</td>\n",
              "      <td>324.0</td>\n",
              "      <td>Aluminium</td>\n",
              "      <td>3.18</td>\n",
              "      <td>11.94</td>\n",
              "      <td>Yes</td>\n",
              "      <td>Yes</td>\n",
              "      <td>Yes</td>\n",
              "      <td>Airways</td>\n",
              "      <td>No</td>\n",
              "      <td>Working Class</td>\n",
              "      <td>No</td>\n",
              "      <td>12/18/16</td>\n",
              "      <td>12/14/16</td>\n",
              "      <td>Aprilside, PA 52793</td>\n",
              "      <td>-159.23</td>\n",
              "    </tr>\n",
              "  </tbody>\n",
              "</table>\n",
              "</div>"
            ],
            "text/plain": [
              "            Customer Id     Artist Name  ...          Customer Location    Cost\n",
              "0  fffe3900350033003300   Billy Jenkins  ...     New Michelle, OH 50777 -283.29\n",
              "1  fffe3800330031003900     Jean Bryant  ...  New Michaelport, WY 12072 -159.96\n",
              "2  fffe3600370035003100    Laura Miller  ...      Bowmanshire, WA 19241 -154.29\n",
              "3      fffe350031003300  Robert Chaires  ...       East Robyn, KY 86375 -161.16\n",
              "4  fffe3900320038003400    Rosalyn Krol  ...        Aprilside, PA 52793 -159.23\n",
              "\n",
              "[5 rows x 20 columns]"
            ]
          },
          "metadata": {
            "tags": []
          },
          "execution_count": 3
        }
      ]
    },
    {
      "cell_type": "code",
      "metadata": {
        "id": "_Tfsk-Pzb7Fm",
        "colab": {
          "base_uri": "https://localhost:8080/",
          "height": 348
        },
        "outputId": "e73d3f7d-9644-479a-85a9-c543c0573f8b"
      },
      "source": [
        "test.head()"
      ],
      "execution_count": null,
      "outputs": [
        {
          "output_type": "execute_result",
          "data": {
            "text/html": [
              "<div>\n",
              "<style scoped>\n",
              "    .dataframe tbody tr th:only-of-type {\n",
              "        vertical-align: middle;\n",
              "    }\n",
              "\n",
              "    .dataframe tbody tr th {\n",
              "        vertical-align: top;\n",
              "    }\n",
              "\n",
              "    .dataframe thead th {\n",
              "        text-align: right;\n",
              "    }\n",
              "</style>\n",
              "<table border=\"1\" class=\"dataframe\">\n",
              "  <thead>\n",
              "    <tr style=\"text-align: right;\">\n",
              "      <th></th>\n",
              "      <th>Customer Id</th>\n",
              "      <th>Artist Name</th>\n",
              "      <th>Artist Reputation</th>\n",
              "      <th>Height</th>\n",
              "      <th>Width</th>\n",
              "      <th>Weight</th>\n",
              "      <th>Material</th>\n",
              "      <th>Price Of Sculpture</th>\n",
              "      <th>Base Shipping Price</th>\n",
              "      <th>International</th>\n",
              "      <th>Express Shipment</th>\n",
              "      <th>Installation Included</th>\n",
              "      <th>Transport</th>\n",
              "      <th>Fragile</th>\n",
              "      <th>Customer Information</th>\n",
              "      <th>Remote Location</th>\n",
              "      <th>Scheduled Date</th>\n",
              "      <th>Delivery Date</th>\n",
              "      <th>Customer Location</th>\n",
              "    </tr>\n",
              "  </thead>\n",
              "  <tbody>\n",
              "    <tr>\n",
              "      <th>0</th>\n",
              "      <td>fffe3400310033003300</td>\n",
              "      <td>James Miller</td>\n",
              "      <td>0.35</td>\n",
              "      <td>53.0</td>\n",
              "      <td>18.0</td>\n",
              "      <td>871.0</td>\n",
              "      <td>Wood</td>\n",
              "      <td>5.98</td>\n",
              "      <td>19.11</td>\n",
              "      <td>Yes</td>\n",
              "      <td>Yes</td>\n",
              "      <td>No</td>\n",
              "      <td>Airways</td>\n",
              "      <td>No</td>\n",
              "      <td>Working Class</td>\n",
              "      <td>No</td>\n",
              "      <td>07/03/17</td>\n",
              "      <td>07/06/17</td>\n",
              "      <td>Santoshaven, IA 63481</td>\n",
              "    </tr>\n",
              "    <tr>\n",
              "      <th>1</th>\n",
              "      <td>fffe3600350035003400</td>\n",
              "      <td>Karen Vetrano</td>\n",
              "      <td>0.67</td>\n",
              "      <td>7.0</td>\n",
              "      <td>4.0</td>\n",
              "      <td>108.0</td>\n",
              "      <td>Clay</td>\n",
              "      <td>6.92</td>\n",
              "      <td>13.96</td>\n",
              "      <td>No</td>\n",
              "      <td>No</td>\n",
              "      <td>No</td>\n",
              "      <td>Roadways</td>\n",
              "      <td>Yes</td>\n",
              "      <td>Working Class</td>\n",
              "      <td>No</td>\n",
              "      <td>05/02/16</td>\n",
              "      <td>05/02/16</td>\n",
              "      <td>Ericksonton, OH 98253</td>\n",
              "    </tr>\n",
              "    <tr>\n",
              "      <th>2</th>\n",
              "      <td>fffe3700360030003500</td>\n",
              "      <td>Roseanne Gaona</td>\n",
              "      <td>0.61</td>\n",
              "      <td>6.0</td>\n",
              "      <td>5.0</td>\n",
              "      <td>97.0</td>\n",
              "      <td>Aluminium</td>\n",
              "      <td>4.23</td>\n",
              "      <td>13.62</td>\n",
              "      <td>Yes</td>\n",
              "      <td>No</td>\n",
              "      <td>No</td>\n",
              "      <td>Airways</td>\n",
              "      <td>No</td>\n",
              "      <td>Working Class</td>\n",
              "      <td>No</td>\n",
              "      <td>01/04/18</td>\n",
              "      <td>01/06/18</td>\n",
              "      <td>APO AP 83453</td>\n",
              "    </tr>\n",
              "    <tr>\n",
              "      <th>3</th>\n",
              "      <td>fffe350038003600</td>\n",
              "      <td>Todd Almanza</td>\n",
              "      <td>0.14</td>\n",
              "      <td>15.0</td>\n",
              "      <td>8.0</td>\n",
              "      <td>757.0</td>\n",
              "      <td>Clay</td>\n",
              "      <td>6.28</td>\n",
              "      <td>23.79</td>\n",
              "      <td>No</td>\n",
              "      <td>Yes</td>\n",
              "      <td>No</td>\n",
              "      <td>Roadways</td>\n",
              "      <td>Yes</td>\n",
              "      <td>Wealthy</td>\n",
              "      <td>No</td>\n",
              "      <td>09/14/17</td>\n",
              "      <td>09/17/17</td>\n",
              "      <td>Antonioborough, AL 54778</td>\n",
              "    </tr>\n",
              "    <tr>\n",
              "      <th>4</th>\n",
              "      <td>fffe3500390032003500</td>\n",
              "      <td>Francis Rivero</td>\n",
              "      <td>0.63</td>\n",
              "      <td>10.0</td>\n",
              "      <td>4.0</td>\n",
              "      <td>1673.0</td>\n",
              "      <td>Marble</td>\n",
              "      <td>4.39</td>\n",
              "      <td>17.83</td>\n",
              "      <td>No</td>\n",
              "      <td>Yes</td>\n",
              "      <td>Yes</td>\n",
              "      <td>Roadways</td>\n",
              "      <td>No</td>\n",
              "      <td>Working Class</td>\n",
              "      <td>Yes</td>\n",
              "      <td>12/03/17</td>\n",
              "      <td>12/02/17</td>\n",
              "      <td>Lake Frances, LA 03040</td>\n",
              "    </tr>\n",
              "  </tbody>\n",
              "</table>\n",
              "</div>"
            ],
            "text/plain": [
              "            Customer Id     Artist Name  ...  Delivery Date         Customer Location\n",
              "0  fffe3400310033003300    James Miller  ...       07/06/17     Santoshaven, IA 63481\n",
              "1  fffe3600350035003400   Karen Vetrano  ...       05/02/16     Ericksonton, OH 98253\n",
              "2  fffe3700360030003500  Roseanne Gaona  ...       01/06/18              APO AP 83453\n",
              "3      fffe350038003600    Todd Almanza  ...       09/17/17  Antonioborough, AL 54778\n",
              "4  fffe3500390032003500  Francis Rivero  ...       12/02/17    Lake Frances, LA 03040\n",
              "\n",
              "[5 rows x 19 columns]"
            ]
          },
          "metadata": {
            "tags": []
          },
          "execution_count": 4
        }
      ]
    },
    {
      "cell_type": "code",
      "metadata": {
        "id": "yT-6Fbe3ZRaS"
      },
      "source": [
        "test_id = pd.DataFrame()\n",
        "test_id['Customer Id'] = test['Customer Id']"
      ],
      "execution_count": null,
      "outputs": []
    },
    {
      "cell_type": "code",
      "metadata": {
        "id": "qtA-31DXn8zk",
        "colab": {
          "base_uri": "https://localhost:8080/",
          "height": 318
        },
        "outputId": "1cd86eb9-2f51-485d-f738-125172dadc4e"
      },
      "source": [
        "train.describe()"
      ],
      "execution_count": null,
      "outputs": [
        {
          "output_type": "execute_result",
          "data": {
            "text/html": [
              "<div>\n",
              "<style scoped>\n",
              "    .dataframe tbody tr th:only-of-type {\n",
              "        vertical-align: middle;\n",
              "    }\n",
              "\n",
              "    .dataframe tbody tr th {\n",
              "        vertical-align: top;\n",
              "    }\n",
              "\n",
              "    .dataframe thead th {\n",
              "        text-align: right;\n",
              "    }\n",
              "</style>\n",
              "<table border=\"1\" class=\"dataframe\">\n",
              "  <thead>\n",
              "    <tr style=\"text-align: right;\">\n",
              "      <th></th>\n",
              "      <th>Artist Reputation</th>\n",
              "      <th>Height</th>\n",
              "      <th>Width</th>\n",
              "      <th>Weight</th>\n",
              "      <th>Price Of Sculpture</th>\n",
              "      <th>Base Shipping Price</th>\n",
              "      <th>Cost</th>\n",
              "    </tr>\n",
              "  </thead>\n",
              "  <tbody>\n",
              "    <tr>\n",
              "      <th>count</th>\n",
              "      <td>5750.000000</td>\n",
              "      <td>6125.000000</td>\n",
              "      <td>5916.000000</td>\n",
              "      <td>5.913000e+03</td>\n",
              "      <td>6500.00000</td>\n",
              "      <td>6500.000000</td>\n",
              "      <td>6.500000e+03</td>\n",
              "    </tr>\n",
              "    <tr>\n",
              "      <th>mean</th>\n",
              "      <td>0.461850</td>\n",
              "      <td>21.766204</td>\n",
              "      <td>9.617647</td>\n",
              "      <td>4.006948e+05</td>\n",
              "      <td>1192.42009</td>\n",
              "      <td>37.407174</td>\n",
              "      <td>1.713920e+04</td>\n",
              "    </tr>\n",
              "    <tr>\n",
              "      <th>std</th>\n",
              "      <td>0.265781</td>\n",
              "      <td>11.968192</td>\n",
              "      <td>5.417000</td>\n",
              "      <td>2.678081e+06</td>\n",
              "      <td>8819.61675</td>\n",
              "      <td>26.873519</td>\n",
              "      <td>2.406579e+05</td>\n",
              "    </tr>\n",
              "    <tr>\n",
              "      <th>min</th>\n",
              "      <td>0.000000</td>\n",
              "      <td>3.000000</td>\n",
              "      <td>2.000000</td>\n",
              "      <td>3.000000e+00</td>\n",
              "      <td>3.00000</td>\n",
              "      <td>10.000000</td>\n",
              "      <td>-8.801727e+05</td>\n",
              "    </tr>\n",
              "    <tr>\n",
              "      <th>25%</th>\n",
              "      <td>0.240000</td>\n",
              "      <td>12.000000</td>\n",
              "      <td>6.000000</td>\n",
              "      <td>5.030000e+02</td>\n",
              "      <td>5.23000</td>\n",
              "      <td>16.700000</td>\n",
              "      <td>1.884400e+02</td>\n",
              "    </tr>\n",
              "    <tr>\n",
              "      <th>50%</th>\n",
              "      <td>0.450000</td>\n",
              "      <td>20.000000</td>\n",
              "      <td>8.000000</td>\n",
              "      <td>3.102000e+03</td>\n",
              "      <td>8.02500</td>\n",
              "      <td>23.505000</td>\n",
              "      <td>3.820650e+02</td>\n",
              "    </tr>\n",
              "    <tr>\n",
              "      <th>75%</th>\n",
              "      <td>0.680000</td>\n",
              "      <td>30.000000</td>\n",
              "      <td>12.000000</td>\n",
              "      <td>3.645600e+04</td>\n",
              "      <td>89.47000</td>\n",
              "      <td>57.905000</td>\n",
              "      <td>1.156115e+03</td>\n",
              "    </tr>\n",
              "    <tr>\n",
              "      <th>max</th>\n",
              "      <td>1.000000</td>\n",
              "      <td>73.000000</td>\n",
              "      <td>50.000000</td>\n",
              "      <td>1.179279e+08</td>\n",
              "      <td>382385.67000</td>\n",
              "      <td>99.980000</td>\n",
              "      <td>1.114343e+07</td>\n",
              "    </tr>\n",
              "  </tbody>\n",
              "</table>\n",
              "</div>"
            ],
            "text/plain": [
              "       Artist Reputation       Height  ...  Base Shipping Price          Cost\n",
              "count        5750.000000  6125.000000  ...          6500.000000  6.500000e+03\n",
              "mean            0.461850    21.766204  ...            37.407174  1.713920e+04\n",
              "std             0.265781    11.968192  ...            26.873519  2.406579e+05\n",
              "min             0.000000     3.000000  ...            10.000000 -8.801727e+05\n",
              "25%             0.240000    12.000000  ...            16.700000  1.884400e+02\n",
              "50%             0.450000    20.000000  ...            23.505000  3.820650e+02\n",
              "75%             0.680000    30.000000  ...            57.905000  1.156115e+03\n",
              "max             1.000000    73.000000  ...            99.980000  1.114343e+07\n",
              "\n",
              "[8 rows x 7 columns]"
            ]
          },
          "metadata": {
            "tags": []
          },
          "execution_count": 6
        }
      ]
    },
    {
      "cell_type": "code",
      "metadata": {
        "id": "JTFmoNAN1EFc",
        "colab": {
          "base_uri": "https://localhost:8080/",
          "height": 300
        },
        "outputId": "13cc56c7-72a2-4905-fd96-5ac4d42c6ee5"
      },
      "source": [
        "test.describe()"
      ],
      "execution_count": null,
      "outputs": [
        {
          "output_type": "execute_result",
          "data": {
            "text/html": [
              "<div>\n",
              "<style scoped>\n",
              "    .dataframe tbody tr th:only-of-type {\n",
              "        vertical-align: middle;\n",
              "    }\n",
              "\n",
              "    .dataframe tbody tr th {\n",
              "        vertical-align: top;\n",
              "    }\n",
              "\n",
              "    .dataframe thead th {\n",
              "        text-align: right;\n",
              "    }\n",
              "</style>\n",
              "<table border=\"1\" class=\"dataframe\">\n",
              "  <thead>\n",
              "    <tr style=\"text-align: right;\">\n",
              "      <th></th>\n",
              "      <th>Artist Reputation</th>\n",
              "      <th>Height</th>\n",
              "      <th>Width</th>\n",
              "      <th>Weight</th>\n",
              "      <th>Price Of Sculpture</th>\n",
              "      <th>Base Shipping Price</th>\n",
              "    </tr>\n",
              "  </thead>\n",
              "  <tbody>\n",
              "    <tr>\n",
              "      <th>count</th>\n",
              "      <td>3278.000000</td>\n",
              "      <td>3381.000000</td>\n",
              "      <td>3359.000000</td>\n",
              "      <td>3.351000e+03</td>\n",
              "      <td>3500.000000</td>\n",
              "      <td>3500.000000</td>\n",
              "    </tr>\n",
              "    <tr>\n",
              "      <th>mean</th>\n",
              "      <td>0.463279</td>\n",
              "      <td>21.275067</td>\n",
              "      <td>9.371837</td>\n",
              "      <td>3.749665e+05</td>\n",
              "      <td>1059.608646</td>\n",
              "      <td>36.352909</td>\n",
              "    </tr>\n",
              "    <tr>\n",
              "      <th>std</th>\n",
              "      <td>0.272287</td>\n",
              "      <td>11.689805</td>\n",
              "      <td>5.231695</td>\n",
              "      <td>2.517256e+06</td>\n",
              "      <td>7409.348267</td>\n",
              "      <td>26.299318</td>\n",
              "    </tr>\n",
              "    <tr>\n",
              "      <th>min</th>\n",
              "      <td>0.000000</td>\n",
              "      <td>3.000000</td>\n",
              "      <td>2.000000</td>\n",
              "      <td>4.000000e+00</td>\n",
              "      <td>3.000000</td>\n",
              "      <td>10.000000</td>\n",
              "    </tr>\n",
              "    <tr>\n",
              "      <th>25%</th>\n",
              "      <td>0.230000</td>\n",
              "      <td>12.000000</td>\n",
              "      <td>6.000000</td>\n",
              "      <td>4.895000e+02</td>\n",
              "      <td>5.160000</td>\n",
              "      <td>16.870000</td>\n",
              "    </tr>\n",
              "    <tr>\n",
              "      <th>50%</th>\n",
              "      <td>0.450000</td>\n",
              "      <td>20.000000</td>\n",
              "      <td>8.000000</td>\n",
              "      <td>2.929000e+03</td>\n",
              "      <td>7.120000</td>\n",
              "      <td>23.055000</td>\n",
              "    </tr>\n",
              "    <tr>\n",
              "      <th>75%</th>\n",
              "      <td>0.680000</td>\n",
              "      <td>29.000000</td>\n",
              "      <td>12.000000</td>\n",
              "      <td>3.340650e+04</td>\n",
              "      <td>81.195000</td>\n",
              "      <td>55.742500</td>\n",
              "    </tr>\n",
              "    <tr>\n",
              "      <th>max</th>\n",
              "      <td>1.000000</td>\n",
              "      <td>65.000000</td>\n",
              "      <td>48.000000</td>\n",
              "      <td>6.459500e+07</td>\n",
              "      <td>227254.240000</td>\n",
              "      <td>99.980000</td>\n",
              "    </tr>\n",
              "  </tbody>\n",
              "</table>\n",
              "</div>"
            ],
            "text/plain": [
              "       Artist Reputation       Height  ...  Price Of Sculpture  Base Shipping Price\n",
              "count        3278.000000  3381.000000  ...         3500.000000          3500.000000\n",
              "mean            0.463279    21.275067  ...         1059.608646            36.352909\n",
              "std             0.272287    11.689805  ...         7409.348267            26.299318\n",
              "min             0.000000     3.000000  ...            3.000000            10.000000\n",
              "25%             0.230000    12.000000  ...            5.160000            16.870000\n",
              "50%             0.450000    20.000000  ...            7.120000            23.055000\n",
              "75%             0.680000    29.000000  ...           81.195000            55.742500\n",
              "max             1.000000    65.000000  ...       227254.240000            99.980000\n",
              "\n",
              "[8 rows x 6 columns]"
            ]
          },
          "metadata": {
            "tags": []
          },
          "execution_count": 7
        }
      ]
    },
    {
      "cell_type": "code",
      "metadata": {
        "id": "Zvxktc4loGkh",
        "colab": {
          "base_uri": "https://localhost:8080/"
        },
        "outputId": "08e5e3fc-19c0-40f0-edcc-7fa68516de0b"
      },
      "source": [
        "train.info()"
      ],
      "execution_count": null,
      "outputs": [
        {
          "output_type": "stream",
          "text": [
            "<class 'pandas.core.frame.DataFrame'>\n",
            "RangeIndex: 6500 entries, 0 to 6499\n",
            "Data columns (total 20 columns):\n",
            " #   Column                 Non-Null Count  Dtype  \n",
            "---  ------                 --------------  -----  \n",
            " 0   Customer Id            6500 non-null   object \n",
            " 1   Artist Name            6500 non-null   object \n",
            " 2   Artist Reputation      5750 non-null   float64\n",
            " 3   Height                 6125 non-null   float64\n",
            " 4   Width                  5916 non-null   float64\n",
            " 5   Weight                 5913 non-null   float64\n",
            " 6   Material               5736 non-null   object \n",
            " 7   Price Of Sculpture     6500 non-null   float64\n",
            " 8   Base Shipping Price    6500 non-null   float64\n",
            " 9   International          6500 non-null   object \n",
            " 10  Express Shipment       6500 non-null   object \n",
            " 11  Installation Included  6500 non-null   object \n",
            " 12  Transport              5108 non-null   object \n",
            " 13  Fragile                6500 non-null   object \n",
            " 14  Customer Information   6500 non-null   object \n",
            " 15  Remote Location        5729 non-null   object \n",
            " 16  Scheduled Date         6500 non-null   object \n",
            " 17  Delivery Date          6500 non-null   object \n",
            " 18  Customer Location      6500 non-null   object \n",
            " 19  Cost                   6500 non-null   float64\n",
            "dtypes: float64(7), object(13)\n",
            "memory usage: 1015.8+ KB\n"
          ],
          "name": "stdout"
        }
      ]
    },
    {
      "cell_type": "code",
      "metadata": {
        "id": "o47qml3EZRFL",
        "colab": {
          "base_uri": "https://localhost:8080/"
        },
        "outputId": "0115b6e1-2d9a-4202-a686-53c9776ec2c7"
      },
      "source": [
        "train.isna().sum()"
      ],
      "execution_count": null,
      "outputs": [
        {
          "output_type": "execute_result",
          "data": {
            "text/plain": [
              "Customer Id                 0\n",
              "Artist Name                 0\n",
              "Artist Reputation         750\n",
              "Height                    375\n",
              "Width                     584\n",
              "Weight                    587\n",
              "Material                  764\n",
              "Price Of Sculpture          0\n",
              "Base Shipping Price         0\n",
              "International               0\n",
              "Express Shipment            0\n",
              "Installation Included       0\n",
              "Transport                1392\n",
              "Fragile                     0\n",
              "Customer Information        0\n",
              "Remote Location           771\n",
              "Scheduled Date              0\n",
              "Delivery Date               0\n",
              "Customer Location           0\n",
              "Cost                        0\n",
              "dtype: int64"
            ]
          },
          "metadata": {
            "tags": []
          },
          "execution_count": 9
        }
      ]
    },
    {
      "cell_type": "code",
      "metadata": {
        "id": "xYGNZLaO1ICE",
        "colab": {
          "base_uri": "https://localhost:8080/"
        },
        "outputId": "9f041b4b-5612-4cc3-8bae-1a2564cdea1f"
      },
      "source": [
        "test.isna().sum()"
      ],
      "execution_count": null,
      "outputs": [
        {
          "output_type": "execute_result",
          "data": {
            "text/plain": [
              "Customer Id                0\n",
              "Artist Name                0\n",
              "Artist Reputation        222\n",
              "Height                   119\n",
              "Width                    141\n",
              "Weight                   149\n",
              "Material                   0\n",
              "Price Of Sculpture         0\n",
              "Base Shipping Price        0\n",
              "International              0\n",
              "Express Shipment           0\n",
              "Installation Included      0\n",
              "Transport                232\n",
              "Fragile                    0\n",
              "Customer Information       0\n",
              "Remote Location            0\n",
              "Scheduled Date             0\n",
              "Delivery Date              0\n",
              "Customer Location          0\n",
              "dtype: int64"
            ]
          },
          "metadata": {
            "tags": []
          },
          "execution_count": 10
        }
      ]
    },
    {
      "cell_type": "code",
      "metadata": {
        "id": "CQjJqL0VqXbx",
        "colab": {
          "base_uri": "https://localhost:8080/"
        },
        "outputId": "d211ee71-d8b5-4ea1-9d24-6d1de61dd249"
      },
      "source": [
        "train['Transport'].nunique()"
      ],
      "execution_count": null,
      "outputs": [
        {
          "output_type": "execute_result",
          "data": {
            "text/plain": [
              "3"
            ]
          },
          "metadata": {
            "tags": []
          },
          "execution_count": 11
        }
      ]
    },
    {
      "cell_type": "code",
      "metadata": {
        "id": "ytvp34ELszK7",
        "colab": {
          "base_uri": "https://localhost:8080/"
        },
        "outputId": "df0ce6c7-63ec-4a1f-cc0c-22a1105cd4f1"
      },
      "source": [
        "train['Transport'].unique()"
      ],
      "execution_count": null,
      "outputs": [
        {
          "output_type": "execute_result",
          "data": {
            "text/plain": [
              "array(['Airways', 'Roadways', nan, 'Waterways'], dtype=object)"
            ]
          },
          "metadata": {
            "tags": []
          },
          "execution_count": 12
        }
      ]
    },
    {
      "cell_type": "code",
      "metadata": {
        "id": "O2kZwroJs2RP"
      },
      "source": [
        "#Train Values\n",
        "train['Height'].fillna(train['Height'].mean(), inplace = True)\n",
        "train['Width'].fillna(train['Width'].mean(), inplace = True)\n",
        "train['Weight'].fillna(train['Weight'].mean(), inplace = True)\n",
        "train['Artist Reputation'].fillna(train['Artist Reputation'].mean(), inplace = True)"
      ],
      "execution_count": null,
      "outputs": []
    },
    {
      "cell_type": "code",
      "metadata": {
        "id": "euZ2CSIv1LL1"
      },
      "source": [
        "#Test Values\n",
        "test['Height'].fillna(test['Height'].mean(), inplace = True)\n",
        "test['Width'].fillna(test['Width'].mean(), inplace = True)\n",
        "test['Weight'].fillna(test['Weight'].mean(), inplace = True)\n",
        "test['Artist Reputation'].fillna(test['Artist Reputation'].mean(), inplace = True)"
      ],
      "execution_count": null,
      "outputs": []
    },
    {
      "cell_type": "code",
      "metadata": {
        "id": "slEEN-Y8wtoF",
        "colab": {
          "base_uri": "https://localhost:8080/",
          "height": 354
        },
        "outputId": "86b882f2-c774-435d-b9f9-9fd8bd1b0155"
      },
      "source": [
        "sns.countplot(train['International'], hue = train['Transport'])"
      ],
      "execution_count": null,
      "outputs": [
        {
          "output_type": "stream",
          "text": [
            "/usr/local/lib/python3.7/dist-packages/seaborn/_decorators.py:43: FutureWarning: Pass the following variable as a keyword arg: x. From version 0.12, the only valid positional argument will be `data`, and passing other arguments without an explicit keyword will result in an error or misinterpretation.\n",
            "  FutureWarning\n"
          ],
          "name": "stderr"
        },
        {
          "output_type": "execute_result",
          "data": {
            "text/plain": [
              "<matplotlib.axes._subplots.AxesSubplot at 0x7faefd3de910>"
            ]
          },
          "metadata": {
            "tags": []
          },
          "execution_count": 15
        },
        {
          "output_type": "display_data",
          "data": {
            "image/png": "[encoded data removed]",
            "text/plain": [
              "<Figure size 432x288 with 1 Axes>"
            ]
          },
          "metadata": {
            "tags": [],
            "needs_background": "light"
          }
        }
      ]
    },
    {
      "cell_type": "code",
      "metadata": {
        "id": "zntiLvUlw63G",
        "colab": {
          "base_uri": "https://localhost:8080/",
          "height": 354
        },
        "outputId": "46ccd645-3c08-47bd-8aa2-0246a37132b6"
      },
      "source": [
        "sns.countplot('Fragile', hue = 'Transport', data = train)"
      ],
      "execution_count": null,
      "outputs": [
        {
          "output_type": "stream",
          "text": [
            "/usr/local/lib/python3.7/dist-packages/seaborn/_decorators.py:43: FutureWarning: Pass the following variable as a keyword arg: x. From version 0.12, the only valid positional argument will be `data`, and passing other arguments without an explicit keyword will result in an error or misinterpretation.\n",
            "  FutureWarning\n"
          ],
          "name": "stderr"
        },
        {
          "output_type": "execute_result",
          "data": {
            "text/plain": [
              "<matplotlib.axes._subplots.AxesSubplot at 0x7faefd28fa90>"
            ]
          },
          "metadata": {
            "tags": []
          },
          "execution_count": 16
        },
        {
          "output_type": "display_data",
          "data": {
            "image/png": "[encoded data removed]",
            "text/plain": [
              "<Figure size 432x288 with 1 Axes>"
            ]
          },
          "metadata": {
            "tags": [],
            "needs_background": "light"
          }
        }
      ]
    },
    {
      "cell_type": "code",
      "metadata": {
        "id": "VeevUZemxIy2",
        "colab": {
          "base_uri": "https://localhost:8080/",
          "height": 516
        },
        "outputId": "41e32e08-663a-4d67-fbbb-f4ce65211693"
      },
      "source": [
        "grid = sns.FacetGrid(row = 'International', col = 'Fragile' , data=train)\n",
        "grid.map(sns.countplot, 'Transport')"
      ],
      "execution_count": null,
      "outputs": [
        {
          "output_type": "stream",
          "text": [
            "/usr/local/lib/python3.7/dist-packages/seaborn/axisgrid.py:643: UserWarning: Using the countplot function without specifying `order` is likely to produce an incorrect plot.\n",
            "  warnings.warn(warning)\n"
          ],
          "name": "stderr"
        },
        {
          "output_type": "execute_result",
          "data": {
            "text/plain": [
              "<seaborn.axisgrid.FacetGrid at 0x7faefcdd1610>"
            ]
          },
          "metadata": {
            "tags": []
          },
          "execution_count": 17
        },
        {
          "output_type": "display_data",
          "data": {
            "image/png": "[encoded data removed]",
            "text/plain": [
              "<Figure size 432x432 with 4 Axes>"
            ]
          },
          "metadata": {
            "tags": [],
            "needs_background": "light"
          }
        }
      ]
    },
    {
      "cell_type": "code",
      "metadata": {
        "id": "bmueuKfyzlvF"
      },
      "source": [
        "def impute_transport(cols):\n",
        "  International = cols[0]\n",
        "  Transport = cols[1]\n",
        "\n",
        "  if pd.isnull(Transport):\n",
        "    if International == 'No':\n",
        "      return 'Roadways'\n",
        "    elif International == 'Yes':\n",
        "      return 'Airways'\n",
        "    else:\n",
        "      return 'Waterways'\n",
        "  else:\n",
        "    return Transport"
      ],
      "execution_count": null,
      "outputs": []
    },
    {
      "cell_type": "code",
      "metadata": {
        "id": "J65LG6oL0j_s"
      },
      "source": [
        "#Train Data\n",
        "train['Transport'] = train[['International', 'Transport']].apply(impute_transport, axis =1 )"
      ],
      "execution_count": null,
      "outputs": []
    },
    {
      "cell_type": "code",
      "metadata": {
        "id": "PqtlgUGl0_CF"
      },
      "source": [
        "#Test Data\n",
        "test['Transport'] = test[['International', 'Transport']].apply(impute_transport, axis =1 )"
      ],
      "execution_count": null,
      "outputs": []
    },
    {
      "cell_type": "code",
      "metadata": {
        "id": "17vXCFbd1frk",
        "colab": {
          "base_uri": "https://localhost:8080/",
          "height": 516
        },
        "outputId": "9c40e2cf-ad65-4d49-eb37-fbee4a1c89ab"
      },
      "source": [
        "grid = sns.FacetGrid(row = 'Fragile', col = 'International' , data=train)\n",
        "grid.map(sns.countplot, 'Material')"
      ],
      "execution_count": null,
      "outputs": [
        {
          "output_type": "stream",
          "text": [
            "/usr/local/lib/python3.7/dist-packages/seaborn/axisgrid.py:643: UserWarning: Using the countplot function without specifying `order` is likely to produce an incorrect plot.\n",
            "  warnings.warn(warning)\n"
          ],
          "name": "stderr"
        },
        {
          "output_type": "execute_result",
          "data": {
            "text/plain": [
              "<seaborn.axisgrid.FacetGrid at 0x7faefd29d610>"
            ]
          },
          "metadata": {
            "tags": []
          },
          "execution_count": 21
        },
        {
          "output_type": "display_data",
          "data": {
            "image/png": "[encoded data removed]",
            "text/plain": [
              "<Figure size 432x432 with 4 Axes>"
            ]
          },
          "metadata": {
            "tags": [],
            "needs_background": "light"
          }
        }
      ]
    },
    {
      "cell_type": "code",
      "metadata": {
        "id": "YzAvB9ze1l1U"
      },
      "source": [
        "def impute_material(cols):\n",
        "  Fragile = cols[0]\n",
        "  Material = cols[1]\n",
        "\n",
        "  if pd.isnull(Material):\n",
        "    if Fragile == 'Yes':\n",
        "      return 'Clay'\n",
        "    else:\n",
        "      return 'Brass'\n",
        "  else:\n",
        "    return Material"
      ],
      "execution_count": null,
      "outputs": []
    },
    {
      "cell_type": "code",
      "metadata": {
        "id": "4q4R_LnZ1wON"
      },
      "source": [
        "#Train Data\n",
        "train['Material'] = train[['Fragile', 'Material']].apply(impute_material, axis =1 )\n",
        "#Test Data\n",
        "test['Material'] = test[['Fragile', 'Material']].apply(impute_material, axis =1 )"
      ],
      "execution_count": null,
      "outputs": []
    },
    {
      "cell_type": "markdown",
      "metadata": {
        "id": "2OZ2MpoD5zwQ"
      },
      "source": [
        "#Feature Engineering"
      ]
    },
    {
      "cell_type": "code",
      "metadata": {
        "id": "QuhS6PI14qBO"
      },
      "source": [
        "train['Cost'] = train['Cost'].abs()"
      ],
      "execution_count": null,
      "outputs": []
    },
    {
      "cell_type": "code",
      "metadata": {
        "id": "ODJuZ02E5Lxj"
      },
      "source": [
        "def text_process(text):\n",
        "  text = [word for word in text]\n",
        "  text = text[-8:]\n",
        "  text = ''.join(text)\n",
        "  return(text)"
      ],
      "execution_count": null,
      "outputs": []
    },
    {
      "cell_type": "code",
      "metadata": {
        "id": "0uScOLMe6BG8"
      },
      "source": [
        "train['Location'] = train['Customer Location'].apply(text_process)\n",
        "test['Location'] = test['Customer Location'].apply(text_process)"
      ],
      "execution_count": null,
      "outputs": []
    },
    {
      "cell_type": "code",
      "metadata": {
        "id": "7puLD93-6W2i"
      },
      "source": [
        " for text in train:\n",
        "  train['State'] = train['Location'].str.partition(' ')[0]\n",
        "  train['Postal Code'] = train['Location'].str.partition(' ')[2]\n",
        "  \n",
        "train.drop(['Location'],axis =1, inplace = True)"
      ],
      "execution_count": null,
      "outputs": []
    },
    {
      "cell_type": "code",
      "metadata": {
        "id": "LpITbIdq6X37"
      },
      "source": [
        " for text in test:\n",
        "  test['State'] = test['Location'].str.partition(' ')[0]\n",
        "  test['Postal Code'] = test['Location'].str.partition(' ')[2]\n",
        "  \n",
        "test.drop(['Location'],axis =1, inplace = True)"
      ],
      "execution_count": null,
      "outputs": []
    },
    {
      "cell_type": "code",
      "metadata": {
        "id": "YD_THbVc8PeR"
      },
      "source": [
        "#Train\n",
        "train['Scheduled Date'] = pd.to_datetime(train['Scheduled Date'])\n",
        "train['Delivery Date'] = pd.to_datetime(train['Delivery Date'])\n",
        "train['Days To Deliver'] = (train['Scheduled Date'] - train['Delivery Date']).map(lambda x:str(x).split()[0])\n",
        "\n",
        "#Test\n",
        "test['Scheduled Date'] = pd.to_datetime(test['Scheduled Date'])\n",
        "test['Delivery Date'] = pd.to_datetime(test['Delivery Date'])\n",
        "test['Days To Deliver'] = (test['Scheduled Date'] - test['Delivery Date']).map(lambda x:str(x).split()[0])"
      ],
      "execution_count": null,
      "outputs": []
    },
    {
      "cell_type": "code",
      "metadata": {
        "id": "b-KnEWDnAVIR"
      },
      "source": [
        "train['Days To Deliver'] = pd.to_numeric(train['Days To Deliver'])\n",
        "test['Days To Deliver'] = pd.to_numeric(test['Days To Deliver'])\n",
        "train['Days To Deliver'] = abs(train['Days To Deliver'])\n",
        "test['Days To Deliver'] = abs(test['Days To Deliver'])"
      ],
      "execution_count": null,
      "outputs": []
    },
    {
      "cell_type": "code",
      "metadata": {
        "id": "mUdyel-t--8x",
        "colab": {
          "base_uri": "https://localhost:8080/",
          "height": 457
        },
        "outputId": "4d5c5ecb-bc80-48cd-9826-a56b5e6fbe9b"
      },
      "source": [
        "grid = sns.FacetGrid(row = 'Remote Location', col = 'Days To Deliver' , data=train)\n",
        "grid.map(sns.countplot, 'State')"
      ],
      "execution_count": null,
      "outputs": [
        {
          "output_type": "stream",
          "text": [
            "/usr/local/lib/python3.7/dist-packages/seaborn/axisgrid.py:643: UserWarning: Using the countplot function without specifying `order` is likely to produce an incorrect plot.\n",
            "  warnings.warn(warning)\n"
          ],
          "name": "stderr"
        },
        {
          "output_type": "execute_result",
          "data": {
            "text/plain": [
              "<seaborn.axisgrid.FacetGrid at 0x7faef40e3c90>"
            ]
          },
          "metadata": {
            "tags": []
          },
          "execution_count": 31
        },
        {
          "output_type": "display_data",
          "data": {
            "image/png": "[encoded data removed]",
            "text/plain": [
              "<Figure size 1080x432 with 10 Axes>"
            ]
          },
          "metadata": {
            "tags": [],
            "needs_background": "light"
          }
        }
      ]
    },
    {
      "cell_type": "code",
      "metadata": {
        "id": "w16Jd0Bs_YI5",
        "colab": {
          "base_uri": "https://localhost:8080/",
          "height": 459
        },
        "outputId": "17bc6557-d4b0-490f-c736-183475dd5190"
      },
      "source": [
        "sns.displot(\n",
        "    train, x=\"Days To Deliver\", row=\"Remote Location\", col = 'Transport',\n",
        "    binwidth=3, height=3, facet_kws=dict(margin_titles=True),\n",
        ")"
      ],
      "execution_count": null,
      "outputs": [
        {
          "output_type": "execute_result",
          "data": {
            "text/plain": [
              "<seaborn.axisgrid.FacetGrid at 0x7faf1be26310>"
            ]
          },
          "metadata": {
            "tags": []
          },
          "execution_count": 32
        },
        {
          "output_type": "display_data",
          "data": {
            "image/png": "[encoded data removed]",
            "text/plain": [
              "<Figure size 648x432 with 6 Axes>"
            ]
          },
          "metadata": {
            "tags": [],
            "needs_background": "light"
          }
        }
      ]
    },
    {
      "cell_type": "code",
      "metadata": {
        "id": "ffPpCIHp_mkx",
        "colab": {
          "base_uri": "https://localhost:8080/"
        },
        "outputId": "2cc5172f-1930-498e-fd06-83f567b57889"
      },
      "source": [
        "train['State'].nunique()"
      ],
      "execution_count": null,
      "outputs": [
        {
          "output_type": "execute_result",
          "data": {
            "text/plain": [
              "54"
            ]
          },
          "metadata": {
            "tags": []
          },
          "execution_count": 33
        }
      ]
    },
    {
      "cell_type": "code",
      "metadata": {
        "id": "qAWgNXU3BbUR",
        "colab": {
          "base_uri": "https://localhost:8080/"
        },
        "outputId": "56b04113-5fa4-4f65-8d88-4e1b6b24e355"
      },
      "source": [
        "train.groupby(['State', 'Remote Location'])['Remote Location'].count()"
      ],
      "execution_count": null,
      "outputs": [
        {
          "output_type": "execute_result",
          "data": {
            "text/plain": [
              "State  Remote Location\n",
              "AA     No                 168\n",
              "       Yes                 45\n",
              "AE     No                 154\n",
              "       Yes                 34\n",
              "AK     No                  82\n",
              "                         ... \n",
              "WI     Yes                 22\n",
              "WV     No                  82\n",
              "       Yes                 23\n",
              "WY     No                  72\n",
              "       Yes                 22\n",
              "Name: Remote Location, Length: 108, dtype: int64"
            ]
          },
          "metadata": {
            "tags": []
          },
          "execution_count": 34
        }
      ]
    },
    {
      "cell_type": "code",
      "metadata": {
        "id": "2Hk548OKCPUX"
      },
      "source": [
        "train['Remote Location'] = train['Remote Location'].fillna(train['Remote Location'].mode()[0])\n",
        "test['Remote Location'] = test['Remote Location'].fillna(test['Remote Location'].mode()[0])"
      ],
      "execution_count": null,
      "outputs": []
    },
    {
      "cell_type": "code",
      "metadata": {
        "id": "7WY7LjfPGTSZ"
      },
      "source": [
        "#Remove unnecessary columns\n",
        "train.drop(columns = ['Customer Id','Artist Name', 'Scheduled Date', 'Delivery Date', 'Customer Location', 'Postal Code'], axis=1 , inplace = True)\n",
        "test.drop(columns = ['Customer Id','Artist Name', 'Scheduled Date', 'Delivery Date', 'Customer Location', 'Postal Code'],axis =1, inplace = True)"
      ],
      "execution_count": null,
      "outputs": []
    },
    {
      "cell_type": "code",
      "metadata": {
        "id": "kyWGN6JPRynC"
      },
      "source": [
        ""
      ],
      "execution_count": null,
      "outputs": []
    },
    {
      "cell_type": "markdown",
      "metadata": {
        "id": "sq0q4L8uHF3x"
      },
      "source": [
        "# Label Encoding, Feature Scaling and Training Model"
      ]
    },
    {
      "cell_type": "code",
      "metadata": {
        "id": "zH24NNhpGpK8"
      },
      "source": [
        "from sklearn.preprocessing import LabelEncoder\n",
        "from sklearn.model_selection import train_test_split"
      ],
      "execution_count": null,
      "outputs": []
    },
    {
      "cell_type": "code",
      "metadata": {
        "id": "_TYsKt4hMVSS",
        "colab": {
          "base_uri": "https://localhost:8080/",
          "height": 330
        },
        "outputId": "34f11b07-1402-488f-c025-1a0590c5f1ee"
      },
      "source": [
        "train.head()"
      ],
      "execution_count": null,
      "outputs": [
        {
          "output_type": "execute_result",
          "data": {
            "text/html": [
              "<div>\n",
              "<style scoped>\n",
              "    .dataframe tbody tr th:only-of-type {\n",
              "        vertical-align: middle;\n",
              "    }\n",
              "\n",
              "    .dataframe tbody tr th {\n",
              "        vertical-align: top;\n",
              "    }\n",
              "\n",
              "    .dataframe thead th {\n",
              "        text-align: right;\n",
              "    }\n",
              "</style>\n",
              "<table border=\"1\" class=\"dataframe\">\n",
              "  <thead>\n",
              "    <tr style=\"text-align: right;\">\n",
              "      <th></th>\n",
              "      <th>Artist Reputation</th>\n",
              "      <th>Height</th>\n",
              "      <th>Width</th>\n",
              "      <th>Weight</th>\n",
              "      <th>Material</th>\n",
              "      <th>Price Of Sculpture</th>\n",
              "      <th>Base Shipping Price</th>\n",
              "      <th>International</th>\n",
              "      <th>Express Shipment</th>\n",
              "      <th>Installation Included</th>\n",
              "      <th>Transport</th>\n",
              "      <th>Fragile</th>\n",
              "      <th>Customer Information</th>\n",
              "      <th>Remote Location</th>\n",
              "      <th>Cost</th>\n",
              "      <th>State</th>\n",
              "      <th>Days To Deliver</th>\n",
              "    </tr>\n",
              "  </thead>\n",
              "  <tbody>\n",
              "    <tr>\n",
              "      <th>0</th>\n",
              "      <td>0.26</td>\n",
              "      <td>17.0</td>\n",
              "      <td>6.000000</td>\n",
              "      <td>4128.000000</td>\n",
              "      <td>Brass</td>\n",
              "      <td>13.91</td>\n",
              "      <td>16.27</td>\n",
              "      <td>Yes</td>\n",
              "      <td>Yes</td>\n",
              "      <td>No</td>\n",
              "      <td>Airways</td>\n",
              "      <td>No</td>\n",
              "      <td>Working Class</td>\n",
              "      <td>No</td>\n",
              "      <td>283.29</td>\n",
              "      <td>OH</td>\n",
              "      <td>4</td>\n",
              "    </tr>\n",
              "    <tr>\n",
              "      <th>1</th>\n",
              "      <td>0.28</td>\n",
              "      <td>3.0</td>\n",
              "      <td>3.000000</td>\n",
              "      <td>61.000000</td>\n",
              "      <td>Brass</td>\n",
              "      <td>6.83</td>\n",
              "      <td>15.00</td>\n",
              "      <td>No</td>\n",
              "      <td>No</td>\n",
              "      <td>No</td>\n",
              "      <td>Roadways</td>\n",
              "      <td>No</td>\n",
              "      <td>Working Class</td>\n",
              "      <td>No</td>\n",
              "      <td>159.96</td>\n",
              "      <td>WY</td>\n",
              "      <td>1</td>\n",
              "    </tr>\n",
              "    <tr>\n",
              "      <th>2</th>\n",
              "      <td>0.07</td>\n",
              "      <td>8.0</td>\n",
              "      <td>5.000000</td>\n",
              "      <td>237.000000</td>\n",
              "      <td>Clay</td>\n",
              "      <td>4.96</td>\n",
              "      <td>21.18</td>\n",
              "      <td>No</td>\n",
              "      <td>No</td>\n",
              "      <td>No</td>\n",
              "      <td>Roadways</td>\n",
              "      <td>Yes</td>\n",
              "      <td>Working Class</td>\n",
              "      <td>Yes</td>\n",
              "      <td>154.29</td>\n",
              "      <td>WA</td>\n",
              "      <td>1</td>\n",
              "    </tr>\n",
              "    <tr>\n",
              "      <th>3</th>\n",
              "      <td>0.12</td>\n",
              "      <td>9.0</td>\n",
              "      <td>9.617647</td>\n",
              "      <td>400694.821918</td>\n",
              "      <td>Aluminium</td>\n",
              "      <td>5.81</td>\n",
              "      <td>16.31</td>\n",
              "      <td>No</td>\n",
              "      <td>No</td>\n",
              "      <td>No</td>\n",
              "      <td>Roadways</td>\n",
              "      <td>No</td>\n",
              "      <td>Wealthy</td>\n",
              "      <td>Yes</td>\n",
              "      <td>161.16</td>\n",
              "      <td>KY</td>\n",
              "      <td>4</td>\n",
              "    </tr>\n",
              "    <tr>\n",
              "      <th>4</th>\n",
              "      <td>0.15</td>\n",
              "      <td>17.0</td>\n",
              "      <td>6.000000</td>\n",
              "      <td>324.000000</td>\n",
              "      <td>Aluminium</td>\n",
              "      <td>3.18</td>\n",
              "      <td>11.94</td>\n",
              "      <td>Yes</td>\n",
              "      <td>Yes</td>\n",
              "      <td>Yes</td>\n",
              "      <td>Airways</td>\n",
              "      <td>No</td>\n",
              "      <td>Working Class</td>\n",
              "      <td>No</td>\n",
              "      <td>159.23</td>\n",
              "      <td>PA</td>\n",
              "      <td>4</td>\n",
              "    </tr>\n",
              "  </tbody>\n",
              "</table>\n",
              "</div>"
            ],
            "text/plain": [
              "   Artist Reputation  Height     Width  ...    Cost State  Days To Deliver\n",
              "0               0.26    17.0  6.000000  ...  283.29    OH                4\n",
              "1               0.28     3.0  3.000000  ...  159.96    WY                1\n",
              "2               0.07     8.0  5.000000  ...  154.29    WA                1\n",
              "3               0.12     9.0  9.617647  ...  161.16    KY                4\n",
              "4               0.15    17.0  6.000000  ...  159.23    PA                4\n",
              "\n",
              "[5 rows x 17 columns]"
            ]
          },
          "metadata": {
            "tags": []
          },
          "execution_count": 38
        }
      ]
    },
    {
      "cell_type": "code",
      "metadata": {
        "id": "3VrRkGBBHZOM"
      },
      "source": [
        "cat_cols = ['Material','International','Express Shipment', 'Installation Included', 'Transport', 'Fragile','Customer Information', 'Remote Location', 'State']"
      ],
      "execution_count": null,
      "outputs": []
    },
    {
      "cell_type": "code",
      "metadata": {
        "id": "vxeLNrU3BzKA",
        "colab": {
          "base_uri": "https://localhost:8080/"
        },
        "outputId": "742acc58-27b7-40d1-9ffd-ed4ab7f2b259"
      },
      "source": [
        "le = LabelEncoder()\n",
        "train[cat_cols].apply(le.fit)"
      ],
      "execution_count": null,
      "outputs": [
        {
          "output_type": "execute_result",
          "data": {
            "text/plain": [
              "Material                 LabelEncoder()\n",
              "International            LabelEncoder()\n",
              "Express Shipment         LabelEncoder()\n",
              "Installation Included    LabelEncoder()\n",
              "Transport                LabelEncoder()\n",
              "Fragile                  LabelEncoder()\n",
              "Customer Information     LabelEncoder()\n",
              "Remote Location          LabelEncoder()\n",
              "State                    LabelEncoder()\n",
              "dtype: object"
            ]
          },
          "metadata": {
            "tags": []
          },
          "execution_count": 40
        }
      ]
    },
    {
      "cell_type": "code",
      "metadata": {
        "id": "JMGoF1inJy39"
      },
      "source": [
        "le.fit(train['Material'])\n",
        "train['Material'] = le.transform(train['Material'])\n",
        "test['Material'] = le.transform(test['Material'])"
      ],
      "execution_count": null,
      "outputs": []
    },
    {
      "cell_type": "code",
      "metadata": {
        "id": "LcjB1unbJ3kd"
      },
      "source": [
        "le.fit(train['International'])\n",
        "train['International']= le.transform(train['International'])\n",
        "test['International']= le.transform(test['International'])"
      ],
      "execution_count": null,
      "outputs": []
    },
    {
      "cell_type": "code",
      "metadata": {
        "id": "7yLv7hZhKErF"
      },
      "source": [
        "le.fit(train['Express Shipment'])\n",
        "train['Express Shipment']= le.transform(train['Express Shipment'])\n",
        "test['Express Shipment']= le.transform(test['Express Shipment'])"
      ],
      "execution_count": null,
      "outputs": []
    },
    {
      "cell_type": "code",
      "metadata": {
        "id": "Lhk1mCMjKIM0"
      },
      "source": [
        "le.fit(train['Installation Included'])\n",
        "train['Installation Included']= le.transform(train['Installation Included'])\n",
        "test['Installation Included']= le.transform(test['Installation Included'])"
      ],
      "execution_count": null,
      "outputs": []
    },
    {
      "cell_type": "code",
      "metadata": {
        "id": "VliCWGH8KLde"
      },
      "source": [
        "le.fit(train['Transport'])\n",
        "train['Transport']= le.transform(train['Transport'])\n",
        "test['Transport'] = le.transform(test['Transport'])"
      ],
      "execution_count": null,
      "outputs": []
    },
    {
      "cell_type": "code",
      "metadata": {
        "id": "SOZvaOW5KN2N"
      },
      "source": [
        "le.fit(train['Fragile'])\n",
        "train['Fragile']= le.transform(train['Fragile'])\n",
        "test['Fragile']= le.transform(test['Fragile'])"
      ],
      "execution_count": null,
      "outputs": []
    },
    {
      "cell_type": "code",
      "metadata": {
        "id": "4hgWWNXxKQTV"
      },
      "source": [
        "le.fit(train['Customer Information'])\n",
        "train['Customer Information']= le.transform(train['Customer Information'])\n",
        "test['Customer Information']= le.transform(test['Customer Information'])"
      ],
      "execution_count": null,
      "outputs": []
    },
    {
      "cell_type": "code",
      "metadata": {
        "id": "GRvMPDhoKUY9"
      },
      "source": [
        "le.fit(train['Remote Location'])\n",
        "train['Remote Location']= le.transform(train['Remote Location'])\n",
        "test['Remote Location']= le.transform(test['Remote Location'])"
      ],
      "execution_count": null,
      "outputs": []
    },
    {
      "cell_type": "code",
      "metadata": {
        "id": "PSFIzOvxKaBN"
      },
      "source": [
        "le.fit(train['State'])\n",
        "train['State']= le.transform(train['State'])\n",
        "test['State']= le.transform(test['State'])"
      ],
      "execution_count": null,
      "outputs": []
    },
    {
      "cell_type": "code",
      "metadata": {
        "id": "lX2jkAlwKdGm",
        "colab": {
          "base_uri": "https://localhost:8080/",
          "height": 261
        },
        "outputId": "97089cf3-0481-42d8-8f1e-3c83e796d8fd"
      },
      "source": [
        "train.head()"
      ],
      "execution_count": null,
      "outputs": [
        {
          "output_type": "execute_result",
          "data": {
            "text/html": [
              "<div>\n",
              "<style scoped>\n",
              "    .dataframe tbody tr th:only-of-type {\n",
              "        vertical-align: middle;\n",
              "    }\n",
              "\n",
              "    .dataframe tbody tr th {\n",
              "        vertical-align: top;\n",
              "    }\n",
              "\n",
              "    .dataframe thead th {\n",
              "        text-align: right;\n",
              "    }\n",
              "</style>\n",
              "<table border=\"1\" class=\"dataframe\">\n",
              "  <thead>\n",
              "    <tr style=\"text-align: right;\">\n",
              "      <th></th>\n",
              "      <th>Artist Reputation</th>\n",
              "      <th>Height</th>\n",
              "      <th>Width</th>\n",
              "      <th>Weight</th>\n",
              "      <th>Material</th>\n",
              "      <th>Price Of Sculpture</th>\n",
              "      <th>Base Shipping Price</th>\n",
              "      <th>International</th>\n",
              "      <th>Express Shipment</th>\n",
              "      <th>Installation Included</th>\n",
              "      <th>Transport</th>\n",
              "      <th>Fragile</th>\n",
              "      <th>Customer Information</th>\n",
              "      <th>Remote Location</th>\n",
              "      <th>Cost</th>\n",
              "      <th>State</th>\n",
              "      <th>Days To Deliver</th>\n",
              "    </tr>\n",
              "  </thead>\n",
              "  <tbody>\n",
              "    <tr>\n",
              "      <th>0</th>\n",
              "      <td>0.26</td>\n",
              "      <td>17.0</td>\n",
              "      <td>6.000000</td>\n",
              "      <td>4128.000000</td>\n",
              "      <td>1</td>\n",
              "      <td>13.91</td>\n",
              "      <td>16.27</td>\n",
              "      <td>1</td>\n",
              "      <td>1</td>\n",
              "      <td>0</td>\n",
              "      <td>0</td>\n",
              "      <td>0</td>\n",
              "      <td>1</td>\n",
              "      <td>0</td>\n",
              "      <td>283.29</td>\n",
              "      <td>38</td>\n",
              "      <td>4</td>\n",
              "    </tr>\n",
              "    <tr>\n",
              "      <th>1</th>\n",
              "      <td>0.28</td>\n",
              "      <td>3.0</td>\n",
              "      <td>3.000000</td>\n",
              "      <td>61.000000</td>\n",
              "      <td>1</td>\n",
              "      <td>6.83</td>\n",
              "      <td>15.00</td>\n",
              "      <td>0</td>\n",
              "      <td>0</td>\n",
              "      <td>0</td>\n",
              "      <td>1</td>\n",
              "      <td>0</td>\n",
              "      <td>1</td>\n",
              "      <td>0</td>\n",
              "      <td>159.96</td>\n",
              "      <td>53</td>\n",
              "      <td>1</td>\n",
              "    </tr>\n",
              "    <tr>\n",
              "      <th>2</th>\n",
              "      <td>0.07</td>\n",
              "      <td>8.0</td>\n",
              "      <td>5.000000</td>\n",
              "      <td>237.000000</td>\n",
              "      <td>3</td>\n",
              "      <td>4.96</td>\n",
              "      <td>21.18</td>\n",
              "      <td>0</td>\n",
              "      <td>0</td>\n",
              "      <td>0</td>\n",
              "      <td>1</td>\n",
              "      <td>1</td>\n",
              "      <td>1</td>\n",
              "      <td>1</td>\n",
              "      <td>154.29</td>\n",
              "      <td>50</td>\n",
              "      <td>1</td>\n",
              "    </tr>\n",
              "    <tr>\n",
              "      <th>3</th>\n",
              "      <td>0.12</td>\n",
              "      <td>9.0</td>\n",
              "      <td>9.617647</td>\n",
              "      <td>400694.821918</td>\n",
              "      <td>0</td>\n",
              "      <td>5.81</td>\n",
              "      <td>16.31</td>\n",
              "      <td>0</td>\n",
              "      <td>0</td>\n",
              "      <td>0</td>\n",
              "      <td>1</td>\n",
              "      <td>0</td>\n",
              "      <td>0</td>\n",
              "      <td>1</td>\n",
              "      <td>161.16</td>\n",
              "      <td>20</td>\n",
              "      <td>4</td>\n",
              "    </tr>\n",
              "    <tr>\n",
              "      <th>4</th>\n",
              "      <td>0.15</td>\n",
              "      <td>17.0</td>\n",
              "      <td>6.000000</td>\n",
              "      <td>324.000000</td>\n",
              "      <td>0</td>\n",
              "      <td>3.18</td>\n",
              "      <td>11.94</td>\n",
              "      <td>1</td>\n",
              "      <td>1</td>\n",
              "      <td>1</td>\n",
              "      <td>0</td>\n",
              "      <td>0</td>\n",
              "      <td>1</td>\n",
              "      <td>0</td>\n",
              "      <td>159.23</td>\n",
              "      <td>41</td>\n",
              "      <td>4</td>\n",
              "    </tr>\n",
              "  </tbody>\n",
              "</table>\n",
              "</div>"
            ],
            "text/plain": [
              "   Artist Reputation  Height     Width  ...    Cost  State  Days To Deliver\n",
              "0               0.26    17.0  6.000000  ...  283.29     38                4\n",
              "1               0.28     3.0  3.000000  ...  159.96     53                1\n",
              "2               0.07     8.0  5.000000  ...  154.29     50                1\n",
              "3               0.12     9.0  9.617647  ...  161.16     20                4\n",
              "4               0.15    17.0  6.000000  ...  159.23     41                4\n",
              "\n",
              "[5 rows x 17 columns]"
            ]
          },
          "metadata": {
            "tags": []
          },
          "execution_count": 50
        }
      ]
    },
    {
      "cell_type": "code",
      "metadata": {
        "id": "nf6Sc_yFP3Hw",
        "colab": {
          "base_uri": "https://localhost:8080/"
        },
        "outputId": "e4c0a94d-e82f-444c-ece3-60a5c15651cd"
      },
      "source": [
        "train.info()"
      ],
      "execution_count": null,
      "outputs": [
        {
          "output_type": "stream",
          "text": [
            "<class 'pandas.core.frame.DataFrame'>\n",
            "RangeIndex: 6500 entries, 0 to 6499\n",
            "Data columns (total 17 columns):\n",
            " #   Column                 Non-Null Count  Dtype  \n",
            "---  ------                 --------------  -----  \n",
            " 0   Artist Reputation      6500 non-null   float64\n",
            " 1   Height                 6500 non-null   float64\n",
            " 2   Width                  6500 non-null   float64\n",
            " 3   Weight                 6500 non-null   float64\n",
            " 4   Material               6500 non-null   int64  \n",
            " 5   Price Of Sculpture     6500 non-null   float64\n",
            " 6   Base Shipping Price    6500 non-null   float64\n",
            " 7   International          6500 non-null   int64  \n",
            " 8   Express Shipment       6500 non-null   int64  \n",
            " 9   Installation Included  6500 non-null   int64  \n",
            " 10  Transport              6500 non-null   int64  \n",
            " 11  Fragile                6500 non-null   int64  \n",
            " 12  Customer Information   6500 non-null   int64  \n",
            " 13  Remote Location        6500 non-null   int64  \n",
            " 14  Cost                   6500 non-null   float64\n",
            " 15  State                  6500 non-null   int64  \n",
            " 16  Days To Deliver        6500 non-null   int64  \n",
            "dtypes: float64(7), int64(10)\n",
            "memory usage: 863.4 KB\n"
          ],
          "name": "stdout"
        }
      ]
    },
    {
      "cell_type": "code",
      "metadata": {
        "id": "ROuZ5ocJzHQ4"
      },
      "source": [
        "from sklearn.preprocessing import StandardScaler\n",
        "ss = StandardScaler()"
      ],
      "execution_count": null,
      "outputs": []
    },
    {
      "cell_type": "code",
      "metadata": {
        "id": "mDsNByDCNq2c"
      },
      "source": [
        "X = train.drop('Cost', axis=1)\n",
        "y = train['Cost']\n"
      ],
      "execution_count": null,
      "outputs": []
    },
    {
      "cell_type": "code",
      "metadata": {
        "id": "DKJrWzlFUJu-"
      },
      "source": [
        "X =ss.fit_transform(X)"
      ],
      "execution_count": null,
      "outputs": []
    },
    {
      "cell_type": "code",
      "metadata": {
        "id": "SMKUJPc-UNtm"
      },
      "source": [
        " X_train, X_test, y_train, y_test = train_test_split(X, y, test_size=0.33, random_state=42)"
      ],
      "execution_count": null,
      "outputs": []
    },
    {
      "cell_type": "code",
      "metadata": {
        "id": "1Q6GzmhtTKqa"
      },
      "source": [
        ""
      ],
      "execution_count": null,
      "outputs": []
    },
    {
      "cell_type": "code",
      "metadata": {
        "id": "eU1vIpppUfKq",
        "colab": {
          "base_uri": "https://localhost:8080/"
        },
        "outputId": "40624c59-527b-4244-e376-55d1e16ca83b"
      },
      "source": [
        "tree = DecisionTreeRegressor()\n",
        "tree.fit(X_train, y_train)\n",
        "tree_predict = tree.predict(X_test)\n",
        "tree_predict\n"
      ],
      "execution_count": null,
      "outputs": [
        {
          "output_type": "execute_result",
          "data": {
            "text/plain": [
              "array([ 589.58,  177.14,  445.46, ..., 4869.97, 1891.75,  180.93])"
            ]
          },
          "metadata": {
            "tags": []
          },
          "execution_count": 56
        }
      ]
    },
    {
      "cell_type": "code",
      "metadata": {
        "id": "Zu5hR9kcVdKK",
        "colab": {
          "base_uri": "https://localhost:8080/"
        },
        "outputId": "eff6af47-f294-46fe-c12e-722c61338806"
      },
      "source": [
        "from sklearn.metrics import mean_squared_error\n",
        "score = np.sqrt(mean_squared_error(y_test, tree_predict))\n",
        "score"
      ],
      "execution_count": null,
      "outputs": [
        {
          "output_type": "execute_result",
          "data": {
            "text/plain": [
              "396454.6544667014"
            ]
          },
          "metadata": {
            "tags": []
          },
          "execution_count": 57
        }
      ]
    },
    {
      "cell_type": "code",
      "metadata": {
        "id": "cy78jFOIWAs7"
      },
      "source": [
        "average = sum(train['Cost'])/ len(train['Cost']) "
      ],
      "execution_count": null,
      "outputs": []
    },
    {
      "cell_type": "code",
      "metadata": {
        "id": "gz1_fhjoWYZT",
        "colab": {
          "base_uri": "https://localhost:8080/"
        },
        "outputId": "04f4ddbc-3f39-45ca-9f62-1e558f252c9c"
      },
      "source": [
        "average"
      ],
      "execution_count": null,
      "outputs": [
        {
          "output_type": "execute_result",
          "data": {
            "text/plain": [
              "18839.8275846154"
            ]
          },
          "metadata": {
            "tags": []
          },
          "execution_count": 59
        }
      ]
    },
    {
      "cell_type": "code",
      "metadata": {
        "id": "Efed9w-oWZJd"
      },
      "source": [
        ""
      ],
      "execution_count": null,
      "outputs": []
    },
    {
      "cell_type": "markdown",
      "metadata": {
        "id": "OR5SxAUuWpE6"
      },
      "source": [
        "# For Train And test Data"
      ]
    },
    {
      "cell_type": "code",
      "metadata": {
        "id": "VONOSsOfWskZ"
      },
      "source": [
        "train_X = train.drop('Cost', axis=1)\n",
        "train_y = train['Cost']\n",
        "test_X = test.copy()"
      ],
      "execution_count": null,
      "outputs": []
    },
    {
      "cell_type": "code",
      "metadata": {
        "id": "dgBYAtTmXWwB",
        "colab": {
          "base_uri": "https://localhost:8080/",
          "height": 479
        },
        "outputId": "a0178e63-c17d-414a-84f2-a9700dd703e7"
      },
      "source": [
        "train_X"
      ],
      "execution_count": null,
      "outputs": [
        {
          "output_type": "execute_result",
          "data": {
            "text/html": [
              "<div>\n",
              "<style scoped>\n",
              "    .dataframe tbody tr th:only-of-type {\n",
              "        vertical-align: middle;\n",
              "    }\n",
              "\n",
              "    .dataframe tbody tr th {\n",
              "        vertical-align: top;\n",
              "    }\n",
              "\n",
              "    .dataframe thead th {\n",
              "        text-align: right;\n",
              "    }\n",
              "</style>\n",
              "<table border=\"1\" class=\"dataframe\">\n",
              "  <thead>\n",
              "    <tr style=\"text-align: right;\">\n",
              "      <th></th>\n",
              "      <th>Artist Reputation</th>\n",
              "      <th>Height</th>\n",
              "      <th>Width</th>\n",
              "      <th>Weight</th>\n",
              "      <th>Material</th>\n",
              "      <th>Price Of Sculpture</th>\n",
              "      <th>Base Shipping Price</th>\n",
              "      <th>International</th>\n",
              "      <th>Express Shipment</th>\n",
              "      <th>Installation Included</th>\n",
              "      <th>Transport</th>\n",
              "      <th>Fragile</th>\n",
              "      <th>Customer Information</th>\n",
              "      <th>Remote Location</th>\n",
              "      <th>State</th>\n",
              "      <th>Days To Deliver</th>\n",
              "    </tr>\n",
              "  </thead>\n",
              "  <tbody>\n",
              "    <tr>\n",
              "      <th>0</th>\n",
              "      <td>0.26</td>\n",
              "      <td>17.0</td>\n",
              "      <td>6.000000</td>\n",
              "      <td>4.128000e+03</td>\n",
              "      <td>1</td>\n",
              "      <td>13.91</td>\n",
              "      <td>16.27</td>\n",
              "      <td>1</td>\n",
              "      <td>1</td>\n",
              "      <td>0</td>\n",
              "      <td>0</td>\n",
              "      <td>0</td>\n",
              "      <td>1</td>\n",
              "      <td>0</td>\n",
              "      <td>38</td>\n",
              "      <td>4</td>\n",
              "    </tr>\n",
              "    <tr>\n",
              "      <th>1</th>\n",
              "      <td>0.28</td>\n",
              "      <td>3.0</td>\n",
              "      <td>3.000000</td>\n",
              "      <td>6.100000e+01</td>\n",
              "      <td>1</td>\n",
              "      <td>6.83</td>\n",
              "      <td>15.00</td>\n",
              "      <td>0</td>\n",
              "      <td>0</td>\n",
              "      <td>0</td>\n",
              "      <td>1</td>\n",
              "      <td>0</td>\n",
              "      <td>1</td>\n",
              "      <td>0</td>\n",
              "      <td>53</td>\n",
              "      <td>1</td>\n",
              "    </tr>\n",
              "    <tr>\n",
              "      <th>2</th>\n",
              "      <td>0.07</td>\n",
              "      <td>8.0</td>\n",
              "      <td>5.000000</td>\n",
              "      <td>2.370000e+02</td>\n",
              "      <td>3</td>\n",
              "      <td>4.96</td>\n",
              "      <td>21.18</td>\n",
              "      <td>0</td>\n",
              "      <td>0</td>\n",
              "      <td>0</td>\n",
              "      <td>1</td>\n",
              "      <td>1</td>\n",
              "      <td>1</td>\n",
              "      <td>1</td>\n",
              "      <td>50</td>\n",
              "      <td>1</td>\n",
              "    </tr>\n",
              "    <tr>\n",
              "      <th>3</th>\n",
              "      <td>0.12</td>\n",
              "      <td>9.0</td>\n",
              "      <td>9.617647</td>\n",
              "      <td>4.006948e+05</td>\n",
              "      <td>0</td>\n",
              "      <td>5.81</td>\n",
              "      <td>16.31</td>\n",
              "      <td>0</td>\n",
              "      <td>0</td>\n",
              "      <td>0</td>\n",
              "      <td>1</td>\n",
              "      <td>0</td>\n",
              "      <td>0</td>\n",
              "      <td>1</td>\n",
              "      <td>20</td>\n",
              "      <td>4</td>\n",
              "    </tr>\n",
              "    <tr>\n",
              "      <th>4</th>\n",
              "      <td>0.15</td>\n",
              "      <td>17.0</td>\n",
              "      <td>6.000000</td>\n",
              "      <td>3.240000e+02</td>\n",
              "      <td>0</td>\n",
              "      <td>3.18</td>\n",
              "      <td>11.94</td>\n",
              "      <td>1</td>\n",
              "      <td>1</td>\n",
              "      <td>1</td>\n",
              "      <td>0</td>\n",
              "      <td>0</td>\n",
              "      <td>1</td>\n",
              "      <td>0</td>\n",
              "      <td>41</td>\n",
              "      <td>4</td>\n",
              "    </tr>\n",
              "    <tr>\n",
              "      <th>...</th>\n",
              "      <td>...</td>\n",
              "      <td>...</td>\n",
              "      <td>...</td>\n",
              "      <td>...</td>\n",
              "      <td>...</td>\n",
              "      <td>...</td>\n",
              "      <td>...</td>\n",
              "      <td>...</td>\n",
              "      <td>...</td>\n",
              "      <td>...</td>\n",
              "      <td>...</td>\n",
              "      <td>...</td>\n",
              "      <td>...</td>\n",
              "      <td>...</td>\n",
              "      <td>...</td>\n",
              "      <td>...</td>\n",
              "    </tr>\n",
              "    <tr>\n",
              "      <th>6495</th>\n",
              "      <td>0.37</td>\n",
              "      <td>37.0</td>\n",
              "      <td>10.000000</td>\n",
              "      <td>1.655100e+04</td>\n",
              "      <td>1</td>\n",
              "      <td>28.28</td>\n",
              "      <td>38.46</td>\n",
              "      <td>1</td>\n",
              "      <td>1</td>\n",
              "      <td>0</td>\n",
              "      <td>0</td>\n",
              "      <td>0</td>\n",
              "      <td>0</td>\n",
              "      <td>1</td>\n",
              "      <td>49</td>\n",
              "      <td>3</td>\n",
              "    </tr>\n",
              "    <tr>\n",
              "      <th>6496</th>\n",
              "      <td>0.67</td>\n",
              "      <td>15.0</td>\n",
              "      <td>9.617647</td>\n",
              "      <td>1.898100e+04</td>\n",
              "      <td>1</td>\n",
              "      <td>67.18</td>\n",
              "      <td>27.72</td>\n",
              "      <td>0</td>\n",
              "      <td>0</td>\n",
              "      <td>0</td>\n",
              "      <td>1</td>\n",
              "      <td>0</td>\n",
              "      <td>1</td>\n",
              "      <td>0</td>\n",
              "      <td>48</td>\n",
              "      <td>2</td>\n",
              "    </tr>\n",
              "    <tr>\n",
              "      <th>6497</th>\n",
              "      <td>0.68</td>\n",
              "      <td>19.0</td>\n",
              "      <td>8.000000</td>\n",
              "      <td>5.870000e+02</td>\n",
              "      <td>3</td>\n",
              "      <td>6.92</td>\n",
              "      <td>10.38</td>\n",
              "      <td>1</td>\n",
              "      <td>0</td>\n",
              "      <td>0</td>\n",
              "      <td>0</td>\n",
              "      <td>1</td>\n",
              "      <td>0</td>\n",
              "      <td>0</td>\n",
              "      <td>22</td>\n",
              "      <td>1</td>\n",
              "    </tr>\n",
              "    <tr>\n",
              "      <th>6498</th>\n",
              "      <td>0.02</td>\n",
              "      <td>33.0</td>\n",
              "      <td>9.000000</td>\n",
              "      <td>1.269377e+06</td>\n",
              "      <td>5</td>\n",
              "      <td>2929.13</td>\n",
              "      <td>69.76</td>\n",
              "      <td>0</td>\n",
              "      <td>1</td>\n",
              "      <td>0</td>\n",
              "      <td>1</td>\n",
              "      <td>0</td>\n",
              "      <td>1</td>\n",
              "      <td>1</td>\n",
              "      <td>47</td>\n",
              "      <td>2</td>\n",
              "    </tr>\n",
              "    <tr>\n",
              "      <th>6499</th>\n",
              "      <td>0.18</td>\n",
              "      <td>30.0</td>\n",
              "      <td>13.000000</td>\n",
              "      <td>3.472900e+04</td>\n",
              "      <td>1</td>\n",
              "      <td>46.63</td>\n",
              "      <td>78.25</td>\n",
              "      <td>0</td>\n",
              "      <td>1</td>\n",
              "      <td>0</td>\n",
              "      <td>0</td>\n",
              "      <td>0</td>\n",
              "      <td>1</td>\n",
              "      <td>0</td>\n",
              "      <td>2</td>\n",
              "      <td>2</td>\n",
              "    </tr>\n",
              "  </tbody>\n",
              "</table>\n",
              "<p>6500 rows × 16 columns</p>\n",
              "</div>"
            ],
            "text/plain": [
              "      Artist Reputation  Height  ...  State  Days To Deliver\n",
              "0                  0.26    17.0  ...     38                4\n",
              "1                  0.28     3.0  ...     53                1\n",
              "2                  0.07     8.0  ...     50                1\n",
              "3                  0.12     9.0  ...     20                4\n",
              "4                  0.15    17.0  ...     41                4\n",
              "...                 ...     ...  ...    ...              ...\n",
              "6495               0.37    37.0  ...     49                3\n",
              "6496               0.67    15.0  ...     48                2\n",
              "6497               0.68    19.0  ...     22                1\n",
              "6498               0.02    33.0  ...     47                2\n",
              "6499               0.18    30.0  ...      2                2\n",
              "\n",
              "[6500 rows x 16 columns]"
            ]
          },
          "metadata": {
            "tags": []
          },
          "execution_count": 61
        }
      ]
    },
    {
      "cell_type": "code",
      "metadata": {
        "id": "Az8HnYskXJZb",
        "colab": {
          "base_uri": "https://localhost:8080/",
          "height": 479
        },
        "outputId": "4aeb370e-a383-4f71-8cbb-72d712fefc82"
      },
      "source": [
        "test_X"
      ],
      "execution_count": null,
      "outputs": [
        {
          "output_type": "execute_result",
          "data": {
            "text/html": [
              "<div>\n",
              "<style scoped>\n",
              "    .dataframe tbody tr th:only-of-type {\n",
              "        vertical-align: middle;\n",
              "    }\n",
              "\n",
              "    .dataframe tbody tr th {\n",
              "        vertical-align: top;\n",
              "    }\n",
              "\n",
              "    .dataframe thead th {\n",
              "        text-align: right;\n",
              "    }\n",
              "</style>\n",
              "<table border=\"1\" class=\"dataframe\">\n",
              "  <thead>\n",
              "    <tr style=\"text-align: right;\">\n",
              "      <th></th>\n",
              "      <th>Artist Reputation</th>\n",
              "      <th>Height</th>\n",
              "      <th>Width</th>\n",
              "      <th>Weight</th>\n",
              "      <th>Material</th>\n",
              "      <th>Price Of Sculpture</th>\n",
              "      <th>Base Shipping Price</th>\n",
              "      <th>International</th>\n",
              "      <th>Express Shipment</th>\n",
              "      <th>Installation Included</th>\n",
              "      <th>Transport</th>\n",
              "      <th>Fragile</th>\n",
              "      <th>Customer Information</th>\n",
              "      <th>Remote Location</th>\n",
              "      <th>State</th>\n",
              "      <th>Days To Deliver</th>\n",
              "    </tr>\n",
              "  </thead>\n",
              "  <tbody>\n",
              "    <tr>\n",
              "      <th>0</th>\n",
              "      <td>0.350000</td>\n",
              "      <td>53.0</td>\n",
              "      <td>18.0</td>\n",
              "      <td>871.000000</td>\n",
              "      <td>6</td>\n",
              "      <td>5.98</td>\n",
              "      <td>19.11</td>\n",
              "      <td>1</td>\n",
              "      <td>1</td>\n",
              "      <td>0</td>\n",
              "      <td>0</td>\n",
              "      <td>0</td>\n",
              "      <td>1</td>\n",
              "      <td>0</td>\n",
              "      <td>15</td>\n",
              "      <td>3</td>\n",
              "    </tr>\n",
              "    <tr>\n",
              "      <th>1</th>\n",
              "      <td>0.670000</td>\n",
              "      <td>7.0</td>\n",
              "      <td>4.0</td>\n",
              "      <td>108.000000</td>\n",
              "      <td>3</td>\n",
              "      <td>6.92</td>\n",
              "      <td>13.96</td>\n",
              "      <td>0</td>\n",
              "      <td>0</td>\n",
              "      <td>0</td>\n",
              "      <td>1</td>\n",
              "      <td>1</td>\n",
              "      <td>1</td>\n",
              "      <td>0</td>\n",
              "      <td>38</td>\n",
              "      <td>0</td>\n",
              "    </tr>\n",
              "    <tr>\n",
              "      <th>2</th>\n",
              "      <td>0.610000</td>\n",
              "      <td>6.0</td>\n",
              "      <td>5.0</td>\n",
              "      <td>97.000000</td>\n",
              "      <td>0</td>\n",
              "      <td>4.23</td>\n",
              "      <td>13.62</td>\n",
              "      <td>1</td>\n",
              "      <td>0</td>\n",
              "      <td>0</td>\n",
              "      <td>0</td>\n",
              "      <td>0</td>\n",
              "      <td>1</td>\n",
              "      <td>0</td>\n",
              "      <td>4</td>\n",
              "      <td>2</td>\n",
              "    </tr>\n",
              "    <tr>\n",
              "      <th>3</th>\n",
              "      <td>0.140000</td>\n",
              "      <td>15.0</td>\n",
              "      <td>8.0</td>\n",
              "      <td>757.000000</td>\n",
              "      <td>3</td>\n",
              "      <td>6.28</td>\n",
              "      <td>23.79</td>\n",
              "      <td>0</td>\n",
              "      <td>1</td>\n",
              "      <td>0</td>\n",
              "      <td>1</td>\n",
              "      <td>1</td>\n",
              "      <td>0</td>\n",
              "      <td>0</td>\n",
              "      <td>3</td>\n",
              "      <td>3</td>\n",
              "    </tr>\n",
              "    <tr>\n",
              "      <th>4</th>\n",
              "      <td>0.630000</td>\n",
              "      <td>10.0</td>\n",
              "      <td>4.0</td>\n",
              "      <td>1673.000000</td>\n",
              "      <td>4</td>\n",
              "      <td>4.39</td>\n",
              "      <td>17.83</td>\n",
              "      <td>0</td>\n",
              "      <td>1</td>\n",
              "      <td>1</td>\n",
              "      <td>1</td>\n",
              "      <td>0</td>\n",
              "      <td>1</td>\n",
              "      <td>1</td>\n",
              "      <td>21</td>\n",
              "      <td>1</td>\n",
              "    </tr>\n",
              "    <tr>\n",
              "      <th>...</th>\n",
              "      <td>...</td>\n",
              "      <td>...</td>\n",
              "      <td>...</td>\n",
              "      <td>...</td>\n",
              "      <td>...</td>\n",
              "      <td>...</td>\n",
              "      <td>...</td>\n",
              "      <td>...</td>\n",
              "      <td>...</td>\n",
              "      <td>...</td>\n",
              "      <td>...</td>\n",
              "      <td>...</td>\n",
              "      <td>...</td>\n",
              "      <td>...</td>\n",
              "      <td>...</td>\n",
              "      <td>...</td>\n",
              "    </tr>\n",
              "    <tr>\n",
              "      <th>3495</th>\n",
              "      <td>0.360000</td>\n",
              "      <td>13.0</td>\n",
              "      <td>6.0</td>\n",
              "      <td>23511.000000</td>\n",
              "      <td>4</td>\n",
              "      <td>78.01</td>\n",
              "      <td>88.70</td>\n",
              "      <td>0</td>\n",
              "      <td>1</td>\n",
              "      <td>0</td>\n",
              "      <td>0</td>\n",
              "      <td>0</td>\n",
              "      <td>0</td>\n",
              "      <td>0</td>\n",
              "      <td>15</td>\n",
              "      <td>0</td>\n",
              "    </tr>\n",
              "    <tr>\n",
              "      <th>3496</th>\n",
              "      <td>0.720000</td>\n",
              "      <td>29.0</td>\n",
              "      <td>14.0</td>\n",
              "      <td>374966.487616</td>\n",
              "      <td>2</td>\n",
              "      <td>214.85</td>\n",
              "      <td>80.28</td>\n",
              "      <td>1</td>\n",
              "      <td>1</td>\n",
              "      <td>0</td>\n",
              "      <td>0</td>\n",
              "      <td>0</td>\n",
              "      <td>0</td>\n",
              "      <td>0</td>\n",
              "      <td>32</td>\n",
              "      <td>4</td>\n",
              "    </tr>\n",
              "    <tr>\n",
              "      <th>3497</th>\n",
              "      <td>0.590000</td>\n",
              "      <td>12.0</td>\n",
              "      <td>6.0</td>\n",
              "      <td>374966.487616</td>\n",
              "      <td>1</td>\n",
              "      <td>8.91</td>\n",
              "      <td>19.58</td>\n",
              "      <td>0</td>\n",
              "      <td>0</td>\n",
              "      <td>1</td>\n",
              "      <td>0</td>\n",
              "      <td>0</td>\n",
              "      <td>1</td>\n",
              "      <td>0</td>\n",
              "      <td>3</td>\n",
              "      <td>1</td>\n",
              "    </tr>\n",
              "    <tr>\n",
              "      <th>3498</th>\n",
              "      <td>0.463279</td>\n",
              "      <td>17.0</td>\n",
              "      <td>9.0</td>\n",
              "      <td>565.000000</td>\n",
              "      <td>0</td>\n",
              "      <td>6.75</td>\n",
              "      <td>10.89</td>\n",
              "      <td>0</td>\n",
              "      <td>1</td>\n",
              "      <td>1</td>\n",
              "      <td>0</td>\n",
              "      <td>0</td>\n",
              "      <td>0</td>\n",
              "      <td>0</td>\n",
              "      <td>47</td>\n",
              "      <td>0</td>\n",
              "    </tr>\n",
              "    <tr>\n",
              "      <th>3499</th>\n",
              "      <td>0.970000</td>\n",
              "      <td>25.0</td>\n",
              "      <td>11.0</td>\n",
              "      <td>989903.000000</td>\n",
              "      <td>5</td>\n",
              "      <td>4768.42</td>\n",
              "      <td>31.38</td>\n",
              "      <td>0</td>\n",
              "      <td>1</td>\n",
              "      <td>0</td>\n",
              "      <td>0</td>\n",
              "      <td>0</td>\n",
              "      <td>1</td>\n",
              "      <td>0</td>\n",
              "      <td>20</td>\n",
              "      <td>4</td>\n",
              "    </tr>\n",
              "  </tbody>\n",
              "</table>\n",
              "<p>3500 rows × 16 columns</p>\n",
              "</div>"
            ],
            "text/plain": [
              "      Artist Reputation  Height  Width  ...  Remote Location  State  Days To Deliver\n",
              "0              0.350000    53.0   18.0  ...                0     15                3\n",
              "1              0.670000     7.0    4.0  ...                0     38                0\n",
              "2              0.610000     6.0    5.0  ...                0      4                2\n",
              "3              0.140000    15.0    8.0  ...                0      3                3\n",
              "4              0.630000    10.0    4.0  ...                1     21                1\n",
              "...                 ...     ...    ...  ...              ...    ...              ...\n",
              "3495           0.360000    13.0    6.0  ...                0     15                0\n",
              "3496           0.720000    29.0   14.0  ...                0     32                4\n",
              "3497           0.590000    12.0    6.0  ...                0      3                1\n",
              "3498           0.463279    17.0    9.0  ...                0     47                0\n",
              "3499           0.970000    25.0   11.0  ...                0     20                4\n",
              "\n",
              "[3500 rows x 16 columns]"
            ]
          },
          "metadata": {
            "tags": []
          },
          "execution_count": 62
        }
      ]
    },
    {
      "cell_type": "code",
      "metadata": {
        "id": "J1WreA6DXaau",
        "colab": {
          "base_uri": "https://localhost:8080/"
        },
        "outputId": "9242bac6-aa4a-44b6-8f18-527172eba6d6"
      },
      "source": [
        "train_y"
      ],
      "execution_count": null,
      "outputs": [
        {
          "output_type": "execute_result",
          "data": {
            "text/plain": [
              "0        283.29\n",
              "1        159.96\n",
              "2        154.29\n",
              "3        161.16\n",
              "4        159.23\n",
              "         ...   \n",
              "6495     872.43\n",
              "6496    1347.02\n",
              "6497     354.55\n",
              "6498    5037.50\n",
              "6499     722.47\n",
              "Name: Cost, Length: 6500, dtype: float64"
            ]
          },
          "metadata": {
            "tags": []
          },
          "execution_count": 63
        }
      ]
    },
    {
      "cell_type": "code",
      "metadata": {
        "id": "CU_6QiCNYKRo"
      },
      "source": [
        "\n",
        "train_X = pd.DataFrame(ss.fit_transform(train_X), columns=train_X.columns)\n",
        "test_X = pd.DataFrame(ss.transform(test_X), columns=test_X.columns)"
      ],
      "execution_count": null,
      "outputs": []
    },
    {
      "cell_type": "code",
      "metadata": {
        "id": "0pYVPHrPYjuZ",
        "colab": {
          "base_uri": "https://localhost:8080/",
          "height": 479
        },
        "outputId": "bec97465-ca4d-4d5a-bb4c-20d065cf1a39"
      },
      "source": [
        "train_X"
      ],
      "execution_count": null,
      "outputs": [
        {
          "output_type": "execute_result",
          "data": {
            "text/html": [
              "<div>\n",
              "<style scoped>\n",
              "    .dataframe tbody tr th:only-of-type {\n",
              "        vertical-align: middle;\n",
              "    }\n",
              "\n",
              "    .dataframe tbody tr th {\n",
              "        vertical-align: top;\n",
              "    }\n",
              "\n",
              "    .dataframe thead th {\n",
              "        text-align: right;\n",
              "    }\n",
              "</style>\n",
              "<table border=\"1\" class=\"dataframe\">\n",
              "  <thead>\n",
              "    <tr style=\"text-align: right;\">\n",
              "      <th></th>\n",
              "      <th>Artist Reputation</th>\n",
              "      <th>Height</th>\n",
              "      <th>Width</th>\n",
              "      <th>Weight</th>\n",
              "      <th>Material</th>\n",
              "      <th>Price Of Sculpture</th>\n",
              "      <th>Base Shipping Price</th>\n",
              "      <th>International</th>\n",
              "      <th>Express Shipment</th>\n",
              "      <th>Installation Included</th>\n",
              "      <th>Transport</th>\n",
              "      <th>Fragile</th>\n",
              "      <th>Customer Information</th>\n",
              "      <th>Remote Location</th>\n",
              "      <th>State</th>\n",
              "      <th>Days To Deliver</th>\n",
              "    </tr>\n",
              "  </thead>\n",
              "  <tbody>\n",
              "    <tr>\n",
              "      <th>0</th>\n",
              "      <td>-0.807544</td>\n",
              "      <td>-0.410283</td>\n",
              "      <td>-0.700078</td>\n",
              "      <td>-1.552680e-01</td>\n",
              "      <td>-0.894137</td>\n",
              "      <td>-0.133634</td>\n",
              "      <td>-0.786603</td>\n",
              "      <td>1.395174</td>\n",
              "      <td>1.429859</td>\n",
              "      <td>-0.812316</td>\n",
              "      <td>-1.175012</td>\n",
              "      <td>-0.436186</td>\n",
              "      <td>0.594408</td>\n",
              "      <td>-0.459953</td>\n",
              "      <td>0.810525</td>\n",
              "      <td>1.425396</td>\n",
              "    </tr>\n",
              "    <tr>\n",
              "      <th>1</th>\n",
              "      <td>-0.727530</td>\n",
              "      <td>-1.615426</td>\n",
              "      <td>-1.280631</td>\n",
              "      <td>-1.568604e-01</td>\n",
              "      <td>-0.894137</td>\n",
              "      <td>-0.134437</td>\n",
              "      <td>-0.833865</td>\n",
              "      <td>-0.716757</td>\n",
              "      <td>-0.699370</td>\n",
              "      <td>-0.812316</td>\n",
              "      <td>0.223044</td>\n",
              "      <td>-0.436186</td>\n",
              "      <td>0.594408</td>\n",
              "      <td>-0.459953</td>\n",
              "      <td>1.735868</td>\n",
              "      <td>-0.677276</td>\n",
              "    </tr>\n",
              "    <tr>\n",
              "      <th>2</th>\n",
              "      <td>-1.567677</td>\n",
              "      <td>-1.185017</td>\n",
              "      <td>-0.893596</td>\n",
              "      <td>-1.567915e-01</td>\n",
              "      <td>0.119712</td>\n",
              "      <td>-0.134649</td>\n",
              "      <td>-0.603882</td>\n",
              "      <td>-0.716757</td>\n",
              "      <td>-0.699370</td>\n",
              "      <td>-0.812316</td>\n",
              "      <td>0.223044</td>\n",
              "      <td>2.292600</td>\n",
              "      <td>0.594408</td>\n",
              "      <td>2.174137</td>\n",
              "      <td>1.550799</td>\n",
              "      <td>-0.677276</td>\n",
              "    </tr>\n",
              "    <tr>\n",
              "      <th>3</th>\n",
              "      <td>-1.367642</td>\n",
              "      <td>-1.098936</td>\n",
              "      <td>0.000000</td>\n",
              "      <td>-2.279008e-17</td>\n",
              "      <td>-1.401062</td>\n",
              "      <td>-0.134552</td>\n",
              "      <td>-0.785115</td>\n",
              "      <td>-0.716757</td>\n",
              "      <td>-0.699370</td>\n",
              "      <td>-0.812316</td>\n",
              "      <td>0.223044</td>\n",
              "      <td>-0.436186</td>\n",
              "      <td>-1.682346</td>\n",
              "      <td>2.174137</td>\n",
              "      <td>-0.299887</td>\n",
              "      <td>1.425396</td>\n",
              "    </tr>\n",
              "    <tr>\n",
              "      <th>4</th>\n",
              "      <td>-1.247621</td>\n",
              "      <td>-0.410283</td>\n",
              "      <td>-0.700078</td>\n",
              "      <td>-1.567574e-01</td>\n",
              "      <td>-1.401062</td>\n",
              "      <td>-0.134851</td>\n",
              "      <td>-0.947741</td>\n",
              "      <td>1.395174</td>\n",
              "      <td>1.429859</td>\n",
              "      <td>1.231048</td>\n",
              "      <td>-1.175012</td>\n",
              "      <td>-0.436186</td>\n",
              "      <td>0.594408</td>\n",
              "      <td>-0.459953</td>\n",
              "      <td>0.995593</td>\n",
              "      <td>1.425396</td>\n",
              "    </tr>\n",
              "    <tr>\n",
              "      <th>...</th>\n",
              "      <td>...</td>\n",
              "      <td>...</td>\n",
              "      <td>...</td>\n",
              "      <td>...</td>\n",
              "      <td>...</td>\n",
              "      <td>...</td>\n",
              "      <td>...</td>\n",
              "      <td>...</td>\n",
              "      <td>...</td>\n",
              "      <td>...</td>\n",
              "      <td>...</td>\n",
              "      <td>...</td>\n",
              "      <td>...</td>\n",
              "      <td>...</td>\n",
              "      <td>...</td>\n",
              "      <td>...</td>\n",
              "    </tr>\n",
              "    <tr>\n",
              "      <th>6495</th>\n",
              "      <td>-0.367466</td>\n",
              "      <td>1.311350</td>\n",
              "      <td>0.073992</td>\n",
              "      <td>-1.504041e-01</td>\n",
              "      <td>-0.894137</td>\n",
              "      <td>-0.132005</td>\n",
              "      <td>0.039180</td>\n",
              "      <td>1.395174</td>\n",
              "      <td>1.429859</td>\n",
              "      <td>-0.812316</td>\n",
              "      <td>-1.175012</td>\n",
              "      <td>-0.436186</td>\n",
              "      <td>-1.682346</td>\n",
              "      <td>2.174137</td>\n",
              "      <td>1.489110</td>\n",
              "      <td>0.724505</td>\n",
              "    </tr>\n",
              "    <tr>\n",
              "      <th>6496</th>\n",
              "      <td>0.832745</td>\n",
              "      <td>-0.582446</td>\n",
              "      <td>0.000000</td>\n",
              "      <td>-1.494526e-01</td>\n",
              "      <td>-0.894137</td>\n",
              "      <td>-0.127594</td>\n",
              "      <td>-0.360501</td>\n",
              "      <td>-0.716757</td>\n",
              "      <td>-0.699370</td>\n",
              "      <td>-0.812316</td>\n",
              "      <td>0.223044</td>\n",
              "      <td>-0.436186</td>\n",
              "      <td>0.594408</td>\n",
              "      <td>-0.459953</td>\n",
              "      <td>1.427420</td>\n",
              "      <td>0.023615</td>\n",
              "    </tr>\n",
              "    <tr>\n",
              "      <th>6497</th>\n",
              "      <td>0.872752</td>\n",
              "      <td>-0.238119</td>\n",
              "      <td>-0.313043</td>\n",
              "      <td>-1.566545e-01</td>\n",
              "      <td>0.119712</td>\n",
              "      <td>-0.134427</td>\n",
              "      <td>-1.005795</td>\n",
              "      <td>1.395174</td>\n",
              "      <td>-0.699370</td>\n",
              "      <td>-0.812316</td>\n",
              "      <td>-1.175012</td>\n",
              "      <td>2.292600</td>\n",
              "      <td>-1.682346</td>\n",
              "      <td>-0.459953</td>\n",
              "      <td>-0.176508</td>\n",
              "      <td>-0.677276</td>\n",
              "    </tr>\n",
              "    <tr>\n",
              "      <th>6498</th>\n",
              "      <td>-1.767713</td>\n",
              "      <td>0.967024</td>\n",
              "      <td>-0.119526</td>\n",
              "      <td>3.401157e-01</td>\n",
              "      <td>1.133562</td>\n",
              "      <td>0.196930</td>\n",
              "      <td>1.203985</td>\n",
              "      <td>-0.716757</td>\n",
              "      <td>1.429859</td>\n",
              "      <td>-0.812316</td>\n",
              "      <td>0.223044</td>\n",
              "      <td>-0.436186</td>\n",
              "      <td>0.594408</td>\n",
              "      <td>2.174137</td>\n",
              "      <td>1.365731</td>\n",
              "      <td>0.023615</td>\n",
              "    </tr>\n",
              "    <tr>\n",
              "      <th>6499</th>\n",
              "      <td>-1.127600</td>\n",
              "      <td>0.708779</td>\n",
              "      <td>0.654545</td>\n",
              "      <td>-1.432868e-01</td>\n",
              "      <td>-0.894137</td>\n",
              "      <td>-0.129924</td>\n",
              "      <td>1.519934</td>\n",
              "      <td>-0.716757</td>\n",
              "      <td>1.429859</td>\n",
              "      <td>-0.812316</td>\n",
              "      <td>-1.175012</td>\n",
              "      <td>-0.436186</td>\n",
              "      <td>0.594408</td>\n",
              "      <td>-0.459953</td>\n",
              "      <td>-1.410299</td>\n",
              "      <td>0.023615</td>\n",
              "    </tr>\n",
              "  </tbody>\n",
              "</table>\n",
              "<p>6500 rows × 16 columns</p>\n",
              "</div>"
            ],
            "text/plain": [
              "      Artist Reputation    Height  ...     State  Days To Deliver\n",
              "0             -0.807544 -0.410283  ...  0.810525         1.425396\n",
              "1             -0.727530 -1.615426  ...  1.735868        -0.677276\n",
              "2             -1.567677 -1.185017  ...  1.550799        -0.677276\n",
              "3             -1.367642 -1.098936  ... -0.299887         1.425396\n",
              "4             -1.247621 -0.410283  ...  0.995593         1.425396\n",
              "...                 ...       ...  ...       ...              ...\n",
              "6495          -0.367466  1.311350  ...  1.489110         0.724505\n",
              "6496           0.832745 -0.582446  ...  1.427420         0.023615\n",
              "6497           0.872752 -0.238119  ... -0.176508        -0.677276\n",
              "6498          -1.767713  0.967024  ...  1.365731         0.023615\n",
              "6499          -1.127600  0.708779  ... -1.410299         0.023615\n",
              "\n",
              "[6500 rows x 16 columns]"
            ]
          },
          "metadata": {
            "tags": []
          },
          "execution_count": 65
        }
      ]
    },
    {
      "cell_type": "code",
      "metadata": {
        "id": "VnlYmjwlY2jL",
        "colab": {
          "base_uri": "https://localhost:8080/",
          "height": 479
        },
        "outputId": "88b8a70e-f383-45d7-8191-5123ea52aa9b"
      },
      "source": [
        "test_X"
      ],
      "execution_count": null,
      "outputs": [
        {
          "output_type": "execute_result",
          "data": {
            "text/html": [
              "<div>\n",
              "<style scoped>\n",
              "    .dataframe tbody tr th:only-of-type {\n",
              "        vertical-align: middle;\n",
              "    }\n",
              "\n",
              "    .dataframe tbody tr th {\n",
              "        vertical-align: top;\n",
              "    }\n",
              "\n",
              "    .dataframe thead th {\n",
              "        text-align: right;\n",
              "    }\n",
              "</style>\n",
              "<table border=\"1\" class=\"dataframe\">\n",
              "  <thead>\n",
              "    <tr style=\"text-align: right;\">\n",
              "      <th></th>\n",
              "      <th>Artist Reputation</th>\n",
              "      <th>Height</th>\n",
              "      <th>Width</th>\n",
              "      <th>Weight</th>\n",
              "      <th>Material</th>\n",
              "      <th>Price Of Sculpture</th>\n",
              "      <th>Base Shipping Price</th>\n",
              "      <th>International</th>\n",
              "      <th>Express Shipment</th>\n",
              "      <th>Installation Included</th>\n",
              "      <th>Transport</th>\n",
              "      <th>Fragile</th>\n",
              "      <th>Customer Information</th>\n",
              "      <th>Remote Location</th>\n",
              "      <th>State</th>\n",
              "      <th>Days To Deliver</th>\n",
              "    </tr>\n",
              "  </thead>\n",
              "  <tbody>\n",
              "    <tr>\n",
              "      <th>0</th>\n",
              "      <td>-0.447480</td>\n",
              "      <td>2.688656</td>\n",
              "      <td>1.622133</td>\n",
              "      <td>-0.156543</td>\n",
              "      <td>1.640487</td>\n",
              "      <td>-0.134533</td>\n",
              "      <td>-0.680915</td>\n",
              "      <td>1.395174</td>\n",
              "      <td>1.429859</td>\n",
              "      <td>-0.812316</td>\n",
              "      <td>-1.175012</td>\n",
              "      <td>-0.436186</td>\n",
              "      <td>0.594408</td>\n",
              "      <td>-0.459953</td>\n",
              "      <td>-0.608335</td>\n",
              "      <td>0.724505</td>\n",
              "    </tr>\n",
              "    <tr>\n",
              "      <th>1</th>\n",
              "      <td>0.832745</td>\n",
              "      <td>-1.271099</td>\n",
              "      <td>-1.087114</td>\n",
              "      <td>-0.156842</td>\n",
              "      <td>0.119712</td>\n",
              "      <td>-0.134427</td>\n",
              "      <td>-0.872568</td>\n",
              "      <td>-0.716757</td>\n",
              "      <td>-0.699370</td>\n",
              "      <td>-0.812316</td>\n",
              "      <td>0.223044</td>\n",
              "      <td>2.292600</td>\n",
              "      <td>0.594408</td>\n",
              "      <td>-0.459953</td>\n",
              "      <td>0.810525</td>\n",
              "      <td>-1.378166</td>\n",
              "    </tr>\n",
              "    <tr>\n",
              "      <th>2</th>\n",
              "      <td>0.592703</td>\n",
              "      <td>-1.357181</td>\n",
              "      <td>-0.893596</td>\n",
              "      <td>-0.156846</td>\n",
              "      <td>-1.401062</td>\n",
              "      <td>-0.134732</td>\n",
              "      <td>-0.885221</td>\n",
              "      <td>1.395174</td>\n",
              "      <td>-0.699370</td>\n",
              "      <td>-0.812316</td>\n",
              "      <td>-1.175012</td>\n",
              "      <td>-0.436186</td>\n",
              "      <td>0.594408</td>\n",
              "      <td>-0.459953</td>\n",
              "      <td>-1.286920</td>\n",
              "      <td>0.023615</td>\n",
              "    </tr>\n",
              "    <tr>\n",
              "      <th>3</th>\n",
              "      <td>-1.287628</td>\n",
              "      <td>-0.582446</td>\n",
              "      <td>-0.313043</td>\n",
              "      <td>-0.156588</td>\n",
              "      <td>0.119712</td>\n",
              "      <td>-0.134499</td>\n",
              "      <td>-0.506752</td>\n",
              "      <td>-0.716757</td>\n",
              "      <td>1.429859</td>\n",
              "      <td>-0.812316</td>\n",
              "      <td>0.223044</td>\n",
              "      <td>2.292600</td>\n",
              "      <td>-1.682346</td>\n",
              "      <td>-0.459953</td>\n",
              "      <td>-1.348610</td>\n",
              "      <td>0.724505</td>\n",
              "    </tr>\n",
              "    <tr>\n",
              "      <th>4</th>\n",
              "      <td>0.672717</td>\n",
              "      <td>-1.012854</td>\n",
              "      <td>-1.087114</td>\n",
              "      <td>-0.156229</td>\n",
              "      <td>0.626637</td>\n",
              "      <td>-0.134714</td>\n",
              "      <td>-0.728549</td>\n",
              "      <td>-0.716757</td>\n",
              "      <td>1.429859</td>\n",
              "      <td>1.231048</td>\n",
              "      <td>0.223044</td>\n",
              "      <td>-0.436186</td>\n",
              "      <td>0.594408</td>\n",
              "      <td>2.174137</td>\n",
              "      <td>-0.238198</td>\n",
              "      <td>-0.677276</td>\n",
              "    </tr>\n",
              "    <tr>\n",
              "      <th>...</th>\n",
              "      <td>...</td>\n",
              "      <td>...</td>\n",
              "      <td>...</td>\n",
              "      <td>...</td>\n",
              "      <td>...</td>\n",
              "      <td>...</td>\n",
              "      <td>...</td>\n",
              "      <td>...</td>\n",
              "      <td>...</td>\n",
              "      <td>...</td>\n",
              "      <td>...</td>\n",
              "      <td>...</td>\n",
              "      <td>...</td>\n",
              "      <td>...</td>\n",
              "      <td>...</td>\n",
              "      <td>...</td>\n",
              "    </tr>\n",
              "    <tr>\n",
              "      <th>3495</th>\n",
              "      <td>-0.407473</td>\n",
              "      <td>-0.754609</td>\n",
              "      <td>-0.700078</td>\n",
              "      <td>-0.147679</td>\n",
              "      <td>0.626637</td>\n",
              "      <td>-0.126366</td>\n",
              "      <td>1.908822</td>\n",
              "      <td>-0.716757</td>\n",
              "      <td>1.429859</td>\n",
              "      <td>-0.812316</td>\n",
              "      <td>-1.175012</td>\n",
              "      <td>-0.436186</td>\n",
              "      <td>-1.682346</td>\n",
              "      <td>-0.459953</td>\n",
              "      <td>-0.608335</td>\n",
              "      <td>-1.378166</td>\n",
              "    </tr>\n",
              "    <tr>\n",
              "      <th>3496</th>\n",
              "      <td>1.032780</td>\n",
              "      <td>0.622697</td>\n",
              "      <td>0.848062</td>\n",
              "      <td>-0.010073</td>\n",
              "      <td>-0.387213</td>\n",
              "      <td>-0.110849</td>\n",
              "      <td>1.595479</td>\n",
              "      <td>1.395174</td>\n",
              "      <td>1.429859</td>\n",
              "      <td>-0.812316</td>\n",
              "      <td>-1.175012</td>\n",
              "      <td>-0.436186</td>\n",
              "      <td>-1.682346</td>\n",
              "      <td>-0.459953</td>\n",
              "      <td>0.440387</td>\n",
              "      <td>1.425396</td>\n",
              "    </tr>\n",
              "    <tr>\n",
              "      <th>3497</th>\n",
              "      <td>0.512688</td>\n",
              "      <td>-0.840691</td>\n",
              "      <td>-0.700078</td>\n",
              "      <td>-0.010073</td>\n",
              "      <td>-0.894137</td>\n",
              "      <td>-0.134201</td>\n",
              "      <td>-0.663424</td>\n",
              "      <td>-0.716757</td>\n",
              "      <td>-0.699370</td>\n",
              "      <td>1.231048</td>\n",
              "      <td>-1.175012</td>\n",
              "      <td>-0.436186</td>\n",
              "      <td>0.594408</td>\n",
              "      <td>-0.459953</td>\n",
              "      <td>-1.348610</td>\n",
              "      <td>-0.677276</td>\n",
              "    </tr>\n",
              "    <tr>\n",
              "      <th>3498</th>\n",
              "      <td>0.005717</td>\n",
              "      <td>-0.410283</td>\n",
              "      <td>-0.119526</td>\n",
              "      <td>-0.156663</td>\n",
              "      <td>-1.401062</td>\n",
              "      <td>-0.134446</td>\n",
              "      <td>-0.986816</td>\n",
              "      <td>-0.716757</td>\n",
              "      <td>1.429859</td>\n",
              "      <td>1.231048</td>\n",
              "      <td>-1.175012</td>\n",
              "      <td>-0.436186</td>\n",
              "      <td>-1.682346</td>\n",
              "      <td>-0.459953</td>\n",
              "      <td>1.365731</td>\n",
              "      <td>-1.378166</td>\n",
              "    </tr>\n",
              "    <tr>\n",
              "      <th>3499</th>\n",
              "      <td>2.032956</td>\n",
              "      <td>0.278370</td>\n",
              "      <td>0.267510</td>\n",
              "      <td>0.230693</td>\n",
              "      <td>1.133562</td>\n",
              "      <td>0.405491</td>\n",
              "      <td>-0.224297</td>\n",
              "      <td>-0.716757</td>\n",
              "      <td>1.429859</td>\n",
              "      <td>-0.812316</td>\n",
              "      <td>-1.175012</td>\n",
              "      <td>-0.436186</td>\n",
              "      <td>0.594408</td>\n",
              "      <td>-0.459953</td>\n",
              "      <td>-0.299887</td>\n",
              "      <td>1.425396</td>\n",
              "    </tr>\n",
              "  </tbody>\n",
              "</table>\n",
              "<p>3500 rows × 16 columns</p>\n",
              "</div>"
            ],
            "text/plain": [
              "      Artist Reputation    Height  ...     State  Days To Deliver\n",
              "0             -0.447480  2.688656  ... -0.608335         0.724505\n",
              "1              0.832745 -1.271099  ...  0.810525        -1.378166\n",
              "2              0.592703 -1.357181  ... -1.286920         0.023615\n",
              "3             -1.287628 -0.582446  ... -1.348610         0.724505\n",
              "4              0.672717 -1.012854  ... -0.238198        -0.677276\n",
              "...                 ...       ...  ...       ...              ...\n",
              "3495          -0.407473 -0.754609  ... -0.608335        -1.378166\n",
              "3496           1.032780  0.622697  ...  0.440387         1.425396\n",
              "3497           0.512688 -0.840691  ... -1.348610        -0.677276\n",
              "3498           0.005717 -0.410283  ...  1.365731        -1.378166\n",
              "3499           2.032956  0.278370  ... -0.299887         1.425396\n",
              "\n",
              "[3500 rows x 16 columns]"
            ]
          },
          "metadata": {
            "tags": []
          },
          "execution_count": 66
        }
      ]
    },
    {
      "cell_type": "markdown",
      "metadata": {
        "id": "uKY-Qam1EMe2"
      },
      "source": [
        "### Decision Tree"
      ]
    },
    {
      "cell_type": "code",
      "metadata": {
        "id": "bzYoW1f-XLLW",
        "colab": {
          "base_uri": "https://localhost:8080/"
        },
        "outputId": "bd400f77-34e4-49a7-8e78-6a8ed45d20d7"
      },
      "source": [
        "tree = DecisionTreeRegressor()\n",
        "tree.fit(train_X, train_y)\n",
        "tree_predict = tree.predict(test_X)\n",
        "tree_predict"
      ],
      "execution_count": null,
      "outputs": [
        {
          "output_type": "execute_result",
          "data": {
            "text/plain": [
              "array([3.0294000e+02, 3.9127000e+02, 2.4789000e+02, ..., 2.0614500e+03,\n",
              "       1.2568000e+02, 3.5914516e+05])"
            ]
          },
          "metadata": {
            "tags": []
          },
          "execution_count": 67
        }
      ]
    },
    {
      "cell_type": "markdown",
      "metadata": {
        "id": "QG6dJyFJEP7s"
      },
      "source": [
        "### Gradient Boosting"
      ]
    },
    {
      "cell_type": "code",
      "metadata": {
        "id": "4vVN2VbWZeIT"
      },
      "source": [
        "GBR = GradientBoostingRegressor(n_estimators= 4000, criterion= 'mse', verbose= 1, max_depth= 10 )\n",
        "cv_sets = KFold(n_splits=10, shuffle= True,random_state=100)\n",
        "params = {'learning_rate' : [0.05,0.06]}\n",
        "grid = GridSearchCV(GBR,param_grid=params,cv=cv_sets)\n",
        "\n"
      ],
      "execution_count": null,
      "outputs": []
    },
    {
      "cell_type": "code",
      "metadata": {
        "id": "9pnD_nkHZeCg",
        "colab": {
          "base_uri": "https://localhost:8080/"
        },
        "outputId": "c5c42823-f2eb-4365-b031-d621c231f92b"
      },
      "source": [
        "grid = grid.fit(train_X, train_y)"
      ],
      "execution_count": null,
      "outputs": [
        {
          "output_type": "stream",
          "text": [
            "      Iter       Train Loss   Remaining Time \n",
            "         1 55798935302.1660            2.28m\n",
            "         2 50364500472.2883            2.19m\n",
            "         3 45459467235.3879            2.15m\n",
            "         4 41035862943.0617            2.17m\n",
            "         5 37039893666.1805            2.14m\n",
            "         6 33433199319.5540            2.13m\n",
            "         7 30176671665.5419            2.14m\n",
            "         8 27238038546.4309            2.17m\n",
            "         9 24585429926.2691            2.23m\n",
            "        10 22191799297.2077            2.21m\n",
            "        20  7970880770.0954            2.18m\n",
            "        30  2864902179.6580            2.14m\n",
            "        40  1030308278.3248            2.12m\n",
            "        50   370910775.1796            2.11m\n",
            "        60   133802373.5778            2.10m\n",
            "        70    48534933.0701            2.10m\n",
            "        80    17738764.0685            2.09m\n",
            "        90     6570550.8294            2.08m\n",
            "       100     2455566.2223            2.07m\n",
            "       200       16314.1186            1.98m\n",
            "       300        2728.6806            1.92m\n",
            "       400         542.7733            1.86m\n",
            "       500         144.0153            1.80m\n",
            "       600          44.4919            1.75m\n",
            "       700          16.2464            1.70m\n",
            "       800           7.6245            1.65m\n",
            "       900           3.7731            1.59m\n",
            "      1000           1.7709            1.54m\n",
            "      2000           0.0004            1.03m\n",
            "      3000           0.0000           30.75s\n",
            "      4000           0.0000            0.00s\n",
            "      Iter       Train Loss   Remaining Time \n",
            "         1 55777046950.7048            2.05m\n",
            "         2 50344744844.7543            2.05m\n",
            "         3 45443109366.7434            2.10m\n",
            "         4 41017010494.6008            2.10m\n",
            "         5 37023888184.9324            2.08m\n",
            "         6 33420090866.1983            2.08m\n",
            "         7 30165525389.6246            2.07m\n",
            "         8 27229817258.9792            2.07m\n",
            "         9 24578572964.7146            2.07m\n",
            "        10 22187210922.4789            2.08m\n",
            "        20  7970720674.7167            2.10m\n",
            "        30  2867594062.0704            2.09m\n",
            "        40  1031848787.7734            2.08m\n",
            "        50   371757497.2514            2.08m\n",
            "        60   134154520.9185            2.07m\n",
            "        70    48580484.0354            2.06m\n",
            "        80    17713064.3471            2.06m\n",
            "        90     6494801.8821            2.05m\n",
            "       100     2442705.8342            2.04m\n",
            "       200       16140.4636            1.97m\n",
            "       300        2450.7339            1.91m\n",
            "       400         673.9021            1.85m\n",
            "       500         176.9925            1.80m\n",
            "       600          59.7054            1.74m\n",
            "       700          21.6746            1.69m\n",
            "       800           8.8154            1.64m\n",
            "       900           3.3205            1.59m\n",
            "      1000           1.4701            1.54m\n",
            "      2000           0.0005            1.03m\n",
            "      3000           0.0000           30.70s\n",
            "      4000           0.0000            0.00s\n",
            "      Iter       Train Loss   Remaining Time \n",
            "         1 41978373696.7021            2.62m\n",
            "         2 37889405124.4322            2.52m\n",
            "         3 34198902598.6753            2.43m\n",
            "         4 30867841471.9842            2.35m\n",
            "         5 27860727971.1166            2.29m\n",
            "         6 25147559794.0840            2.26m\n",
            "         7 22698439774.8147            2.23m\n",
            "         8 20487929784.2707            2.20m\n",
            "         9 18492431017.9298            2.20m\n",
            "        10 16691756003.2007            2.19m\n",
            "        20  5992213223.1281            2.12m\n",
            "        30  2152031072.3112            2.11m\n",
            "        40   773648132.2040            2.10m\n",
            "        50   278463782.5844            2.09m\n",
            "        60   100307380.2381            2.08m\n",
            "        70    36223710.6025            2.08m\n",
            "        80    13167526.2409            2.07m\n",
            "        90     4842660.6556            2.06m\n",
            "       100     1821878.9214            2.06m\n",
            "       200       15629.7824            1.97m\n",
            "       300        2506.4569            1.91m\n",
            "       400         594.9143            1.86m\n",
            "       500         205.0589            1.81m\n",
            "       600          66.6457            1.76m\n",
            "       700          24.9255            1.70m\n",
            "       800           9.2952            1.65m\n",
            "       900           3.5574            1.60m\n",
            "      1000           1.3488            1.54m\n",
            "      2000           0.0002            1.03m\n",
            "      3000           0.0000           30.65s\n",
            "      4000           0.0000            0.00s\n",
            "      Iter       Train Loss   Remaining Time \n",
            "         1 55610518432.6651            2.04m\n",
            "         2 50195937901.7718            2.04m\n",
            "         3 45309209634.1557            2.04m\n",
            "         4 40897586001.9813            2.04m\n",
            "         5 36915918833.2350            2.04m\n",
            "         6 33322262895.2392            2.05m\n",
            "         7 30078917251.6569            2.08m\n",
            "         8 27152030245.8248            2.08m\n",
            "         9 24509972354.8929            2.09m\n",
            "        10 22123753865.1080            2.08m\n",
            "        20  7944952163.9290            2.07m\n",
            "        30  2852728941.2761            2.07m\n",
            "        40  1024114802.8775            2.07m\n",
            "        50   368146856.7422            2.05m\n",
            "        60   132594689.2274            2.05m\n",
            "        70    47919622.6867            2.04m\n",
            "        80    17455087.3561            2.04m\n",
            "        90     6466017.3590            2.04m\n",
            "       100     2458024.7012            2.03m\n",
            "       200       21763.5328            1.96m\n",
            "       300        2946.0643            1.90m\n",
            "       400         769.3686            1.85m\n",
            "       500         241.1553            1.79m\n",
            "       600          77.0725            1.74m\n",
            "       700          28.3038            1.69m\n",
            "       800           9.9883            1.64m\n",
            "       900           3.4311            1.59m\n",
            "      1000           1.6500            1.54m\n",
            "      2000           0.0003            1.02m\n",
            "      3000           0.0000           30.60s\n",
            "      4000           0.0000            0.00s\n",
            "      Iter       Train Loss   Remaining Time \n",
            "         1 56526940222.4347            2.07m\n",
            "         2 51019866762.6077            2.07m\n",
            "         3 46049664972.3631            2.06m\n",
            "         4 41563397004.7962            2.06m\n",
            "         5 37514939492.0019            2.05m\n",
            "         6 33860602519.6152            2.05m\n",
            "         7 30563248061.5639            2.08m\n",
            "         8 27586513949.1981            2.07m\n",
            "         9 24900614472.5199            2.07m\n",
            "        10 22475523040.0978            2.07m\n",
            "        20  8071763920.8908            2.05m\n",
            "        30  2898066739.4465            2.06m\n",
            "        40  1040873712.1761            2.06m\n",
            "        50   374377764.1138            2.05m\n",
            "        60   134881496.2449            2.05m\n",
            "        70    48780655.1505            2.05m\n",
            "        80    17782301.4879            2.04m\n",
            "        90     6576910.4455            2.04m\n",
            "       100     2492455.1328            2.03m\n",
            "       200       18261.4300            1.96m\n",
            "       300        2718.3827            1.90m\n",
            "       400         655.9592            1.85m\n",
            "       500         169.4632            1.79m\n",
            "       600          50.5113            1.74m\n",
            "       700          19.6218            1.69m\n",
            "       800           7.8232            1.64m\n",
            "       900           2.9250            1.59m\n",
            "      1000           1.0526            1.53m\n",
            "      2000           0.0002            1.02m\n",
            "      3000           0.0000           30.60s\n",
            "      4000           0.0000            0.00s\n",
            "      Iter       Train Loss   Remaining Time \n",
            "         1 34480031168.9459            2.06m\n",
            "         2 31120368038.9884            2.06m\n",
            "         3 28088262117.1489            2.13m\n",
            "         4 25351750402.6553            2.12m\n",
            "         5 22882006520.5292            2.11m\n",
            "         6 20653001668.2143            2.10m\n",
            "         7 18641302350.6211            2.09m\n",
            "         8 16825677408.6364            2.09m\n",
            "         9 15187061731.6218            2.08m\n",
            "        10 13707777314.4630            2.10m\n",
            "        20  4922467984.0038            2.09m\n",
            "        30  1770340451.8647            2.08m\n",
            "        40   637389975.1960            2.07m\n",
            "        50   229636470.3118            2.06m\n",
            "        60    82926852.9166            2.05m\n",
            "        70    30060954.7931            2.05m\n",
            "        80    10959804.0665            2.04m\n",
            "        90     4057165.4823            2.04m\n",
            "       100     1542565.1509            2.03m\n",
            "       200       16515.4150            1.96m\n",
            "       300        2257.1759            1.90m\n",
            "       400         497.8764            1.85m\n",
            "       500         140.0468            1.79m\n",
            "       600          46.1020            1.74m\n",
            "       700          19.0703            1.69m\n",
            "       800           8.9127            1.64m\n",
            "       900           3.3163            1.59m\n",
            "      1000           1.4880            1.54m\n",
            "      2000           0.0003            1.02m\n",
            "      3000           0.0000           30.65s\n",
            "      4000           0.0000            0.00s\n",
            "      Iter       Train Loss   Remaining Time \n",
            "         1 57296366700.6723            2.07m\n",
            "         2 51715103231.0788            2.07m\n",
            "         3 46677613765.2428            2.15m\n",
            "         4 42131285189.4719            2.15m\n",
            "         5 38028110014.5391            2.14m\n",
            "         6 34324046610.0019            2.13m\n",
            "         7 30981598449.0057            2.12m\n",
            "         8 27964368149.5288            2.11m\n",
            "         9 25240807180.0081            2.11m\n",
            "        10 22783590022.5648            2.12m\n",
            "        20  8182163656.5108            2.10m\n",
            "        30  2940732489.2038            2.09m\n",
            "        40  1057995434.1696            2.07m\n",
            "        50   380941494.3244            2.06m\n",
            "        60   137659832.9914            2.06m\n",
            "        70    49870980.0859            2.05m\n",
            "        80    18165153.6537            2.04m\n",
            "        90     6649254.7266            2.04m\n",
            "       100     2484324.6820            2.04m\n",
            "       200       17186.0094            1.97m\n",
            "       300        2688.8322            1.90m\n",
            "       400         631.6688            1.85m\n",
            "       500         183.9111            1.79m\n",
            "       600          63.0675            1.74m\n",
            "       700          22.3216            1.69m\n",
            "       800           8.2877            1.64m\n",
            "       900           2.7947            1.58m\n",
            "      1000           0.9880            1.53m\n",
            "      2000           0.0002            1.02m\n",
            "      3000           0.0000           30.56s\n",
            "      4000           0.0000            0.00s\n",
            "      Iter       Train Loss   Remaining Time \n",
            "         1 49584651252.3371            2.05m\n",
            "         2 44755310952.8975            2.04m\n",
            "         3 40396810102.2523            2.10m\n",
            "         4 36463249596.3148            2.09m\n",
            "         5 32913183549.5217            2.08m\n",
            "         6 29709159680.8306            2.08m\n",
            "         7 26817495038.0666            2.07m\n",
            "         8 24207915404.7205            2.07m\n",
            "         9 21850996961.3372            2.07m\n",
            "        10 19723676934.4004            2.08m\n",
            "        20  7089050196.7592            2.07m\n",
            "        30  2551158438.0001            2.08m\n",
            "        40   919058181.3574            2.06m\n",
            "        50   331965826.8042            2.05m\n",
            "        60   120039372.6761            2.05m\n",
            "        70    43338403.9701            2.04m\n",
            "        80    15726072.6995            2.04m\n",
            "        90     5777791.4130            2.03m\n",
            "       100     2177142.3690            2.03m\n",
            "       200       18514.7746            1.96m\n",
            "       300        2587.4098            1.90m\n",
            "       400         574.9479            1.84m\n",
            "       500         179.9291            1.79m\n",
            "       600          54.0305            1.74m\n",
            "       700          19.9205            1.68m\n",
            "       800           8.3235            1.63m\n",
            "       900           3.7783            1.58m\n",
            "      1000           1.4810            1.53m\n",
            "      2000           0.0003            1.02m\n",
            "      3000           0.0000           30.61s\n",
            "      4000           0.0000            0.00s\n",
            "      Iter       Train Loss   Remaining Time \n",
            "         1 57533292278.9068            2.06m\n",
            "         2 51926983743.6457            2.25m\n",
            "         3 46867228900.4242            2.20m\n",
            "         4 42300779576.2071            2.16m\n",
            "         5 38180032350.3365            2.15m\n",
            "         6 34460345638.1348            2.17m\n",
            "         7 31103867729.7866            2.17m\n",
            "         8 28073889051.1715            2.16m\n",
            "         9 25339679109.2246            2.15m\n",
            "        10 22871365086.6668            2.14m\n",
            "        20  8210464125.7737            2.10m\n",
            "        30  2949301773.0922            2.08m\n",
            "        40  1060297058.8424            2.07m\n",
            "        50   381301159.3079            2.08m\n",
            "        60   137450293.4290            2.07m\n",
            "        70    49692218.8074            2.06m\n",
            "        80    18105876.4108            2.06m\n",
            "        90     6689204.7961            2.05m\n",
            "       100     2523873.8655            2.05m\n",
            "       200       19743.5922            1.97m\n",
            "       300        2807.2046            1.90m\n",
            "       400         844.3425            1.85m\n",
            "       500         277.6104            1.79m\n",
            "       600          97.7243            1.74m\n",
            "       700          35.0580            1.70m\n",
            "       800          11.3829            1.65m\n",
            "       900           5.0234            1.59m\n",
            "      1000           2.3921            1.54m\n",
            "      2000           0.0008            1.03m\n",
            "      3000           0.0000           30.70s\n",
            "      4000           0.0000            0.00s\n",
            "      Iter       Train Loss   Remaining Time \n",
            "         1 57523023318.3382            2.08m\n",
            "         2 51920657614.7363            2.07m\n",
            "         3 46864498577.7640            2.11m\n",
            "         4 42300321482.7441            2.10m\n",
            "         5 38181129724.9659            2.09m\n",
            "         6 34463419510.6826            2.08m\n",
            "         7 31108012113.0943            2.08m\n",
            "         8 28079739991.5605            2.08m\n",
            "         9 25346537065.7306            2.08m\n",
            "        10 22879693414.0177            2.09m\n",
            "        20  8212365569.4343            2.08m\n",
            "        30  2950320975.4612            2.08m\n",
            "        40  1061609228.4863            2.06m\n",
            "        50   382669381.3089            2.05m\n",
            "        60   138330039.3449            2.05m\n",
            "        70    50187968.8461            2.05m\n",
            "        80    18352264.6442            2.04m\n",
            "        90     6725926.2881            2.04m\n",
            "       100     2515150.4101            2.03m\n",
            "       200       16175.8007            1.96m\n",
            "       300        2530.5717            1.91m\n",
            "       400         523.6897            1.85m\n",
            "       500         141.3064            1.79m\n",
            "       600          53.6775            1.74m\n",
            "       700          21.5103            1.69m\n",
            "       800           7.5160            1.64m\n",
            "       900           3.3419            1.59m\n",
            "      1000           1.5143            1.54m\n",
            "      2000           0.0002            1.02m\n"
          ],
          "name": "stdout"
        }
      ]
    },
    {
      "cell_type": "code",
      "metadata": {
        "id": "R7VJVFkRZdxD"
      },
      "source": [
        "grid_params = grid.best_estimator_"
      ],
      "execution_count": null,
      "outputs": []
    },
    {
      "cell_type": "code",
      "metadata": {
        "id": "lm1TCm57AlS3"
      },
      "source": [
        "grid_params"
      ],
      "execution_count": null,
      "outputs": []
    },
    {
      "cell_type": "code",
      "metadata": {
        "id": "rsiVQ5HKD-00"
      },
      "source": [
        "\n",
        "Gbr = GradientBoostingRegressor(alpha=0.9, ccp_alpha=0.0, criterion='mse', init=None,\n",
        "                          learning_rate=0.05, loss='ls', max_depth=10,\n",
        "                          max_features=None, max_leaf_nodes=None,\n",
        "                          min_impurity_decrease=0.0, min_impurity_split=None,\n",
        "                          min_samples_leaf=1, min_samples_split=2,\n",
        "                          min_weight_fraction_leaf=0.0, n_estimators=4000,\n",
        "                          n_iter_no_change=None, presort='deprecated',\n",
        "                          random_state=None, subsample=1.0, tol=0.0001,\n",
        "                          validation_fraction=0.1, verbose=1, warm_start=False)\n",
        "Gbr.fit(train_X, train_y)\n",
        "gbr = Gbr.predict(test_X)\n"
      ],
      "execution_count": null,
      "outputs": []
    },
    {
      "cell_type": "code",
      "metadata": {
        "id": "BePEUeRH2UTD"
      },
      "source": [
        "gbr"
      ],
      "execution_count": null,
      "outputs": []
    },
    {
      "cell_type": "markdown",
      "metadata": {
        "id": "I_MUtyvYEU6F"
      },
      "source": [
        "### Random Forest"
      ]
    },
    {
      "cell_type": "code",
      "metadata": {
        "id": "oMI5kzFnw12c"
      },
      "source": [
        "forest = RandomForestRegressor(bootstrap= True, n_estimators= 4000)\n",
        "forest.fit(train_X, train_y)\n",
        "forest_predict = forest.predict(test_X)"
      ],
      "execution_count": null,
      "outputs": []
    },
    {
      "cell_type": "code",
      "metadata": {
        "id": "iQ8M7kPLaeAH"
      },
      "source": [
        "forest_predict"
      ],
      "execution_count": null,
      "outputs": []
    },
    {
      "cell_type": "markdown",
      "metadata": {
        "id": "e76BeUhlEb--"
      },
      "source": [
        "### XG Boosting"
      ]
    },
    {
      "cell_type": "code",
      "metadata": {
        "id": "5QHOBaVszE2K"
      },
      "source": [
        "xgbregressor = xgb.XGBRegressor(max_depth = 10, n_estimators= 4000)#, verbosity= 1)#, max_depth= 10, )\n",
        "cv_sets = KFold(n_splits=20, shuffle= True,random_state=100)\n",
        "params = {'learning_rate' : [0.01, 0.05]}\n",
        "\n",
        "#xgbregressor.fit(train_X, train_y)\n",
        "#y_pred_xgb = xgbregressor.predict(test_X)\n",
        "#y_pred_xgb"
      ],
      "execution_count": null,
      "outputs": []
    },
    {
      "cell_type": "code",
      "metadata": {
        "id": "qTMG8rMvowPp"
      },
      "source": [
        "print(xgbregressor.learning_rate)"
      ],
      "execution_count": null,
      "outputs": []
    },
    {
      "cell_type": "code",
      "metadata": {
        "id": "rs8K0aDFKekR"
      },
      "source": [
        "grid_xgb = GridSearchCV(xgbregressor,cv=cv_sets,param_grid=params)"
      ],
      "execution_count": null,
      "outputs": []
    },
    {
      "cell_type": "code",
      "metadata": {
        "id": "-XDc8_NtMPj3"
      },
      "source": [
        "grid_xgb = grid_xgb.fit(train_X, train_y)"
      ],
      "execution_count": null,
      "outputs": []
    },
    {
      "cell_type": "code",
      "metadata": {
        "id": "78W5R0GoKecG"
      },
      "source": [
        "grid_params_xgb = grid_xgb.best_estimator_\n",
        "\n",
        "grid_params_xgb"
      ],
      "execution_count": null,
      "outputs": []
    },
    {
      "cell_type": "code",
      "metadata": {
        "id": "DqcqI0cKK8YM"
      },
      "source": [
        "grid_params_xgb.fit(train_X,train_y)"
      ],
      "execution_count": null,
      "outputs": []
    },
    {
      "cell_type": "code",
      "metadata": {
        "id": "CCLbJfBvLCLw"
      },
      "source": [
        "y_predicted_grid_xgb = grid_params_xgb.predict(test_X)"
      ],
      "execution_count": null,
      "outputs": []
    },
    {
      "cell_type": "code",
      "metadata": {
        "id": "B2bqZljKLEnP"
      },
      "source": [
        "y_predicted_grid_xgb"
      ],
      "execution_count": null,
      "outputs": []
    },
    {
      "cell_type": "code",
      "metadata": {
        "id": "FucUsOkp0953"
      },
      "source": [
        ""
      ],
      "execution_count": null,
      "outputs": []
    },
    {
      "cell_type": "markdown",
      "metadata": {
        "id": "aBz5rRmPEiDS"
      },
      "source": [
        "### Neural Nets"
      ]
    },
    {
      "cell_type": "code",
      "metadata": {
        "id": "wq6MW_yBDl3s"
      },
      "source": [
        "#Neural nets\n",
        "import tensorflow as tf\n",
        "from tensorflow import keras\n",
        "from keras.layers import LeakyReLU\n",
        "from keras.layers import Dense\n",
        "\n"
      ],
      "execution_count": null,
      "outputs": []
    },
    {
      "cell_type": "code",
      "metadata": {
        "id": "SPetBpxGJkXH"
      },
      "source": [
        "train_X.shape"
      ],
      "execution_count": null,
      "outputs": []
    },
    {
      "cell_type": "code",
      "metadata": {
        "id": "7QW9VDS66fNh"
      },
      "source": [
        "test_X"
      ],
      "execution_count": null,
      "outputs": []
    },
    {
      "cell_type": "code",
      "metadata": {
        "id": "m8-3PCOvxfQ6"
      },
      "source": [
        "#layer = tf.keras.layers.LeakyReLU()\n",
        "\n",
        "\n",
        "model = keras.models.Sequential([\n",
        "    \n",
        "     keras.layers.Dense(17,input_dim=16, activation= 'elu', kernel_initializer= 'random_uniform', kernel_regularizer=tf.keras.regularizers.L2(0.01)),\n",
        "     \n",
        "     keras.layers.Dense(500, activation='elu'),\n",
        "     \n",
        "     keras.layers.Dense(300, activation='elu'),\n",
        "     keras.layers.Dense(20, activation='elu'),\n",
        "     \n",
        "     keras.layers.Dense(1)\n",
        " ])"
      ],
      "execution_count": null,
      "outputs": []
    },
    {
      "cell_type": "code",
      "metadata": {
        "id": "LsyYlrfGyDOv"
      },
      "source": [
        "loss_func = keras.losses.Huber()\n",
        "\n",
        "optimizer = keras.optimizers.Nadam(learning_rate= 0.05)\n",
        "\n",
        "model.compile(loss=loss_func, optimizer=optimizer, metrics=['mse','mae'] )\n",
        "model.summary()\n",
        "#optimizer = 'nadam'"
      ],
      "execution_count": null,
      "outputs": []
    },
    {
      "cell_type": "code",
      "metadata": {
        "id": "5DeZR2Hp3N4-"
      },
      "source": [
        "his = model.fit(train_X, train_y, epochs= 150, verbose =1, shuffle= True, batch_size= 25 )"
      ],
      "execution_count": null,
      "outputs": []
    },
    {
      "cell_type": "code",
      "metadata": {
        "id": "JiU9YbYSDND5"
      },
      "source": [
        "a = model.predict(test_X)"
      ],
      "execution_count": null,
      "outputs": []
    },
    {
      "cell_type": "code",
      "metadata": {
        "id": "NFknf38RCI7i"
      },
      "source": [
        "import pandas as pd\n",
        "import matplotlib.pyplot as plt\n",
        "pd.DataFrame(his.history).plot(figsize = (8,5))\n",
        "plt.grid(True)\n",
        "plt.gca().set_ylim(0,1)\n",
        "plt.show()"
      ],
      "execution_count": null,
      "outputs": []
    },
    {
      "cell_type": "code",
      "metadata": {
        "id": "XKX3TFy1XOnE"
      },
      "source": [
        "df = pd.DataFrame()\n",
        "df['Customer Id'] = test_id['Customer Id']\n",
        "df['Cost'] = a\n",
        "df['Cost'] = df['Cost'].abs()"
      ],
      "execution_count": null,
      "outputs": []
    },
    {
      "cell_type": "code",
      "metadata": {
        "id": "1ELISoBxZG6S"
      },
      "source": [
        "df"
      ],
      "execution_count": null,
      "outputs": []
    },
    {
      "cell_type": "code",
      "metadata": {
        "id": "zUvgGeXHs1Hn"
      },
      "source": [
        "filename = 'Cost Prediction neural.csv'\n",
        "\n",
        "df.to_csv(filename,index=False)\n",
        "\n",
        "print('Saved file: ' + filename)"
      ],
      "execution_count": null,
      "outputs": []
    },
    {
      "cell_type": "code",
      "metadata": {
        "id": "vZJQLJj7tXYj"
      },
      "source": [
        ""
      ],
      "execution_count": null,
      "outputs": []
    }
  ]
}